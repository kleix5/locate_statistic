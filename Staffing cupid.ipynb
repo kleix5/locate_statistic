{
 "cells": [
  {
   "cell_type": "code",
   "execution_count": 1,
   "id": "4844b471",
   "metadata": {},
   "outputs": [],
   "source": [
    "import numpy as np\n",
    "import pandas as pd"
   ]
  },
  {
   "cell_type": "code",
   "execution_count": 2,
   "id": "0999d621",
   "metadata": {},
   "outputs": [],
   "source": [
    "data = {'salary': [2500, 2500, 2500, 2500, 3000, 3500, 3500, 4000, 3000, 3000, 2500, 2500],\n",
    "        'capacity': [31, 28, 31, 30, 31, 30, 31, 31, 30, 31, 30, 31]}\n",
    "months = ['jan', 'feb', 'mar', 'apr', 'may', 'jun', 'jul', 'aug', 'sen', 'oct', 'nov', 'dec']"
   ]
  },
  {
   "cell_type": "code",
   "execution_count": 3,
   "id": "d4f9d108",
   "metadata": {},
   "outputs": [],
   "source": [
    "df = pd.DataFrame(data, index=months)"
   ]
  },
  {
   "cell_type": "code",
   "execution_count": 4,
   "id": "4c5a301f",
   "metadata": {},
   "outputs": [],
   "source": [
    "df['amount'] = df['salary'] * df['capacity']"
   ]
  },
  {
   "cell_type": "code",
   "execution_count": 5,
   "id": "d1d4b5b1",
   "metadata": {},
   "outputs": [
    {
     "data": {
      "text/html": [
       "<div>\n",
       "<style scoped>\n",
       "    .dataframe tbody tr th:only-of-type {\n",
       "        vertical-align: middle;\n",
       "    }\n",
       "\n",
       "    .dataframe tbody tr th {\n",
       "        vertical-align: top;\n",
       "    }\n",
       "\n",
       "    .dataframe thead th {\n",
       "        text-align: right;\n",
       "    }\n",
       "</style>\n",
       "<table border=\"1\" class=\"dataframe\">\n",
       "  <thead>\n",
       "    <tr style=\"text-align: right;\">\n",
       "      <th></th>\n",
       "      <th>salary</th>\n",
       "      <th>capacity</th>\n",
       "      <th>amount</th>\n",
       "    </tr>\n",
       "  </thead>\n",
       "  <tbody>\n",
       "    <tr>\n",
       "      <th>jan</th>\n",
       "      <td>2500</td>\n",
       "      <td>31</td>\n",
       "      <td>77500</td>\n",
       "    </tr>\n",
       "    <tr>\n",
       "      <th>feb</th>\n",
       "      <td>2500</td>\n",
       "      <td>28</td>\n",
       "      <td>70000</td>\n",
       "    </tr>\n",
       "    <tr>\n",
       "      <th>mar</th>\n",
       "      <td>2500</td>\n",
       "      <td>31</td>\n",
       "      <td>77500</td>\n",
       "    </tr>\n",
       "    <tr>\n",
       "      <th>apr</th>\n",
       "      <td>2500</td>\n",
       "      <td>30</td>\n",
       "      <td>75000</td>\n",
       "    </tr>\n",
       "    <tr>\n",
       "      <th>may</th>\n",
       "      <td>3000</td>\n",
       "      <td>31</td>\n",
       "      <td>93000</td>\n",
       "    </tr>\n",
       "    <tr>\n",
       "      <th>jun</th>\n",
       "      <td>3500</td>\n",
       "      <td>30</td>\n",
       "      <td>105000</td>\n",
       "    </tr>\n",
       "    <tr>\n",
       "      <th>jul</th>\n",
       "      <td>3500</td>\n",
       "      <td>31</td>\n",
       "      <td>108500</td>\n",
       "    </tr>\n",
       "    <tr>\n",
       "      <th>aug</th>\n",
       "      <td>4000</td>\n",
       "      <td>31</td>\n",
       "      <td>124000</td>\n",
       "    </tr>\n",
       "    <tr>\n",
       "      <th>sen</th>\n",
       "      <td>3000</td>\n",
       "      <td>30</td>\n",
       "      <td>90000</td>\n",
       "    </tr>\n",
       "    <tr>\n",
       "      <th>oct</th>\n",
       "      <td>3000</td>\n",
       "      <td>31</td>\n",
       "      <td>93000</td>\n",
       "    </tr>\n",
       "    <tr>\n",
       "      <th>nov</th>\n",
       "      <td>2500</td>\n",
       "      <td>30</td>\n",
       "      <td>75000</td>\n",
       "    </tr>\n",
       "    <tr>\n",
       "      <th>dec</th>\n",
       "      <td>2500</td>\n",
       "      <td>31</td>\n",
       "      <td>77500</td>\n",
       "    </tr>\n",
       "  </tbody>\n",
       "</table>\n",
       "</div>"
      ],
      "text/plain": [
       "     salary  capacity  amount\n",
       "jan    2500        31   77500\n",
       "feb    2500        28   70000\n",
       "mar    2500        31   77500\n",
       "apr    2500        30   75000\n",
       "may    3000        31   93000\n",
       "jun    3500        30  105000\n",
       "jul    3500        31  108500\n",
       "aug    4000        31  124000\n",
       "sen    3000        30   90000\n",
       "oct    3000        31   93000\n",
       "nov    2500        30   75000\n",
       "dec    2500        31   77500"
      ]
     },
     "execution_count": 5,
     "metadata": {},
     "output_type": "execute_result"
    }
   ],
   "source": [
    "df"
   ]
  },
  {
   "cell_type": "code",
   "execution_count": 11,
   "id": "fc14c935",
   "metadata": {},
   "outputs": [
    {
     "name": "stdout",
     "output_type": "stream",
     "text": [
      "сумма:  1066000 RUB\n"
     ]
    }
   ],
   "source": [
    "print('сумма: ', df.amount.sum(), 'RUB')"
   ]
  },
  {
   "cell_type": "code",
   "execution_count": 12,
   "id": "f4da36c3",
   "metadata": {},
   "outputs": [
    {
     "name": "stdout",
     "output_type": "stream",
     "text": [
      "в среднем за смену:  2916.67 RUB\n"
     ]
    }
   ],
   "source": [
    "print('в среднем за смену: ', round(df.salary.mean(), 2), 'RUB')"
   ]
  },
  {
   "cell_type": "code",
   "execution_count": null,
   "id": "09fd654c",
   "metadata": {},
   "outputs": [],
   "source": []
  }
 ],
 "metadata": {
  "kernelspec": {
   "display_name": "Python 3 (ipykernel)",
   "language": "python",
   "name": "python3"
  },
  "language_info": {
   "codemirror_mode": {
    "name": "ipython",
    "version": 3
   },
   "file_extension": ".py",
   "mimetype": "text/x-python",
   "name": "python",
   "nbconvert_exporter": "python",
   "pygments_lexer": "ipython3",
   "version": "3.9.7"
  }
 },
 "nbformat": 4,
 "nbformat_minor": 5
}

{
 "cells": [
  {
   "cell_type": "code",
   "execution_count": 1,
   "id": "a3f2d527-76e8-44c7-88c4-53ed2bcec388",
   "metadata": {},
   "outputs": [],
   "source": [
    "import numpy as np\n",
    "import pandas as pd"
   ]
  },
  {
   "cell_type": "code",
   "execution_count": 2,
   "id": "3ffd6334-a2e9-4890-be1b-2a0d23a0d6c5",
   "metadata": {},
   "outputs": [],
   "source": [
    "pa = pd.read_csv('./cupid/locstat/main.txt', header=[0,1], index_col=0)"
   ]
  },
  {
   "cell_type": "code",
   "execution_count": 3,
   "id": "0468ecd7-c02c-468c-9088-73ab23607a86",
   "metadata": {},
   "outputs": [],
   "source": [
    "pec23 = pa.iloc[43: -1]"
   ]
  },
  {
   "cell_type": "code",
   "execution_count": 4,
   "id": "3a6d3699-ac15-4d5f-98c9-842f754f3c25",
   "metadata": {},
   "outputs": [
    {
     "data": {
      "text/plain": [
       "40.56458333333333"
      ]
     },
     "execution_count": 4,
     "metadata": {},
     "output_type": "execute_result"
    }
   ],
   "source": [
    "pec23.load_percent.T.mean().sort_values(ascending=False).mean()"
   ]
  },
  {
   "cell_type": "code",
   "execution_count": 6,
   "id": "f2554ebc-21b8-40df-83f6-dfeec2736efd",
   "metadata": {},
   "outputs": [],
   "source": [
    "loadPA19 = pa.iloc[:7].load_percent.T.mean()\n",
    "loadPA22 = pa.iloc[31:43].load_percent.T.mean()\n",
    "loadPA23 = pa.iloc[43:55].load_percent.T.mean()"
   ]
  },
  {
   "cell_type": "code",
   "execution_count": 23,
   "id": "636b2034-649f-43ec-b228-6ae4badf7f73",
   "metadata": {},
   "outputs": [
    {
     "name": "stdout",
     "output_type": "stream",
     "text": [
      "663845.8691666662\n"
     ]
    }
   ],
   "source": [
    "# всего броней в Печорах в 2023 г. было 306, а в 2024 г. было 349\n",
    "clean = 800 # в Печорах: 1к - 300 руб.; 2к - 600 руб.; 3к - 800 руб.\n",
    "salary_per_year_pec24 = 1000000 # из расчёта зарплаты на руки \n",
    "wash = 150 # в Печорах ценник за 1 кг. 100 руб., в Зеленоградске в интернете нашёл за 150 руб.\n",
    "consumption = 300000 # прочие расходы жкх, мелкий ремонт и т.д.\n",
    "flat1 = 3800\n",
    "flat2 = 4000\n",
    "flat3 = 4400\n",
    "flat4 = 5000\n",
    "load = loadPA23.mean()/100\n",
    "allfl_per_day = flat1+flat2+flat3+flat4\n",
    "subt = (clean*350) + salary_per_year_pec24 + consumption + (wash*1000)\n",
    "print(allfl_per_day*365*load*0.94 - subt)"
   ]
  },
  {
   "cell_type": "code",
   "execution_count": 25,
   "id": "b8630112-b19c-4f3e-8fbb-a70b2ab92886",
   "metadata": {},
   "outputs": [
    {
     "data": {
      "text/plain": [
       "31.95357142857143"
      ]
     },
     "execution_count": 25,
     "metadata": {},
     "output_type": "execute_result"
    }
   ],
   "source": [
    "loadPA19.mean()"
   ]
  },
  {
   "cell_type": "code",
   "execution_count": 10,
   "id": "342e92b6-b75a-4254-9c04-dce772f773f9",
   "metadata": {},
   "outputs": [
    {
     "data": {
      "text/plain": [
       "28.777083333333337"
      ]
     },
     "execution_count": 10,
     "metadata": {},
     "output_type": "execute_result"
    }
   ],
   "source": [
    "loadPA22.mean()"
   ]
  },
  {
   "cell_type": "code",
   "execution_count": 24,
   "id": "77d15b44-3721-48a3-a944-1fc81d7ce31f",
   "metadata": {},
   "outputs": [
    {
     "data": {
      "text/plain": [
       "40.56458333333333"
      ]
     },
     "execution_count": 24,
     "metadata": {},
     "output_type": "execute_result"
    }
   ],
   "source": [
    "loadPA23.mean()"
   ]
  },
  {
   "cell_type": "code",
   "execution_count": null,
   "id": "0d8f89bd-c78a-426b-829f-552073214bb8",
   "metadata": {},
   "outputs": [],
   "source": []
  }
 ],
 "metadata": {
  "kernelspec": {
   "display_name": "Python 3 (ipykernel)",
   "language": "python",
   "name": "python3"
  },
  "language_info": {
   "codemirror_mode": {
    "name": "ipython",
    "version": 3
   },
   "file_extension": ".py",
   "mimetype": "text/x-python",
   "name": "python",
   "nbconvert_exporter": "python",
   "pygments_lexer": "ipython3",
   "version": "3.9.7"
  }
 },
 "nbformat": 4,
 "nbformat_minor": 5
}

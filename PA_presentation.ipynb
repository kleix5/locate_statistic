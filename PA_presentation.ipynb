{
 "cells": [
  {
   "cell_type": "markdown",
   "id": "dca3c5d0",
   "metadata": {},
   "source": [
    "# Статистические показатели Pechory Apartment"
   ]
  },
  {
 "cells": [
  {
   "cell_type": "markdown",
   "id": "dca3c5d0",
   "metadata": {},
   "source": [
    "# ЭТО ТЕСТОВАЯ СТРОКА"
   ]
  },
  {
   "cell_type": "code",
   "execution_count": 1,
   "id": "12dfdc39",
   "metadata": {},
   "outputs": [],
   "source": [
    "%matplotlib inline\n",
    "import pandas as pd\n",
    "import numpy as np\n",
    "from scipy import stats\n",
    "import matplotlib.pyplot as plt\n",
    "import seaborn as sns"
   ]
  },
  {
   "cell_type": "code",
   "execution_count": 2,
   "id": "2538dff2",
   "metadata": {},
   "outputs": [],
   "source": [
    "main_df = pd.read_csv('C:/py_projects/stats_hotel/data_files/main', header=[0,1], index_col=0)# explicitly spicify row numbers for index"
   ]
  },
  {
   "cell_type": "code",
   "execution_count": 3,
   "id": "01d3f506",
   "metadata": {},
   "outputs": [],
   "source": [
    "months = ['January', 'February', 'March', 'April', 'May', 'June', 'July',\n",
    "             'August', 'September', 'October', 'November', 'December']"
   ]
  },
  {
   "cell_type": "code",
   "execution_count": 4,
   "id": "ffea4f4f",
   "metadata": {},
   "outputs": [
    {
     "data": {
      "text/html": [
       "<div>\n",
       "<style scoped>\n",
       "    .dataframe tbody tr th:only-of-type {\n",
       "        vertical-align: middle;\n",
       "    }\n",
       "\n",
       "    .dataframe tbody tr th {\n",
       "        vertical-align: top;\n",
       "    }\n",
       "\n",
       "    .dataframe thead tr th {\n",
       "        text-align: left;\n",
       "    }\n",
       "</style>\n",
       "<table border=\"1\" class=\"dataframe\">\n",
       "  <thead>\n",
       "    <tr>\n",
       "      <th></th>\n",
       "      <th colspan=\"4\" halign=\"left\">load_percent</th>\n",
       "      <th colspan=\"4\" halign=\"left\">room_coast_mean</th>\n",
       "      <th colspan=\"2\" halign=\"left\">room_profit_mean</th>\n",
       "      <th>...</th>\n",
       "      <th colspan=\"2\" halign=\"left\">rooms_per_day</th>\n",
       "      <th colspan=\"4\" halign=\"left\">profit</th>\n",
       "      <th colspan=\"4\" halign=\"left\">guests</th>\n",
       "    </tr>\n",
       "    <tr>\n",
       "      <th>Показатель</th>\n",
       "      <th>2_rooms</th>\n",
       "      <th>3_rooms</th>\n",
       "      <th>1_room</th>\n",
       "      <th>P2_rooms</th>\n",
       "      <th>2_rooms</th>\n",
       "      <th>3_rooms</th>\n",
       "      <th>1_room</th>\n",
       "      <th>P2_rooms</th>\n",
       "      <th>2_rooms</th>\n",
       "      <th>3_rooms</th>\n",
       "      <th>...</th>\n",
       "      <th>1_room</th>\n",
       "      <th>P2_rooms</th>\n",
       "      <th>2_rooms</th>\n",
       "      <th>3_rooms</th>\n",
       "      <th>1_room</th>\n",
       "      <th>P2_rooms</th>\n",
       "      <th>2_rooms</th>\n",
       "      <th>3_rooms</th>\n",
       "      <th>1_room</th>\n",
       "      <th>P2_rooms</th>\n",
       "    </tr>\n",
       "  </thead>\n",
       "  <tbody>\n",
       "    <tr>\n",
       "      <th>2019-06-01</th>\n",
       "      <td>56.7</td>\n",
       "      <td>33.3</td>\n",
       "      <td>36.7</td>\n",
       "      <td>0.0</td>\n",
       "      <td>2694.12</td>\n",
       "      <td>3090.00</td>\n",
       "      <td>2200.0</td>\n",
       "      <td>0.0</td>\n",
       "      <td>1526.67</td>\n",
       "      <td>1030.00</td>\n",
       "      <td>...</td>\n",
       "      <td>0.4</td>\n",
       "      <td>0.0</td>\n",
       "      <td>45800.0</td>\n",
       "      <td>30900.0</td>\n",
       "      <td>24200.0</td>\n",
       "      <td>0.0</td>\n",
       "      <td>11.0</td>\n",
       "      <td>13.0</td>\n",
       "      <td>7.0</td>\n",
       "      <td>0.0</td>\n",
       "    </tr>\n",
       "    <tr>\n",
       "      <th>2019-07-01</th>\n",
       "      <td>67.7</td>\n",
       "      <td>54.8</td>\n",
       "      <td>25.8</td>\n",
       "      <td>0.0</td>\n",
       "      <td>2417.14</td>\n",
       "      <td>3400.00</td>\n",
       "      <td>1887.5</td>\n",
       "      <td>0.0</td>\n",
       "      <td>1637.42</td>\n",
       "      <td>1864.52</td>\n",
       "      <td>...</td>\n",
       "      <td>0.3</td>\n",
       "      <td>0.0</td>\n",
       "      <td>50760.0</td>\n",
       "      <td>57800.0</td>\n",
       "      <td>15100.0</td>\n",
       "      <td>0.0</td>\n",
       "      <td>27.0</td>\n",
       "      <td>53.0</td>\n",
       "      <td>10.0</td>\n",
       "      <td>0.0</td>\n",
       "    </tr>\n",
       "    <tr>\n",
       "      <th>2019-08-01</th>\n",
       "      <td>93.5</td>\n",
       "      <td>67.7</td>\n",
       "      <td>80.6</td>\n",
       "      <td>0.0</td>\n",
       "      <td>2157.24</td>\n",
       "      <td>2933.33</td>\n",
       "      <td>1736.0</td>\n",
       "      <td>0.0</td>\n",
       "      <td>2018.06</td>\n",
       "      <td>1987.10</td>\n",
       "      <td>...</td>\n",
       "      <td>0.8</td>\n",
       "      <td>0.0</td>\n",
       "      <td>62560.0</td>\n",
       "      <td>61600.0</td>\n",
       "      <td>43400.0</td>\n",
       "      <td>0.0</td>\n",
       "      <td>44.0</td>\n",
       "      <td>48.0</td>\n",
       "      <td>23.0</td>\n",
       "      <td>0.0</td>\n",
       "    </tr>\n",
       "    <tr>\n",
       "      <th>2019-09-01</th>\n",
       "      <td>53.3</td>\n",
       "      <td>26.7</td>\n",
       "      <td>46.7</td>\n",
       "      <td>0.0</td>\n",
       "      <td>2195.00</td>\n",
       "      <td>2950.00</td>\n",
       "      <td>1700.0</td>\n",
       "      <td>0.0</td>\n",
       "      <td>117067.00</td>\n",
       "      <td>786.67</td>\n",
       "      <td>...</td>\n",
       "      <td>0.5</td>\n",
       "      <td>0.0</td>\n",
       "      <td>35120.0</td>\n",
       "      <td>23600.0</td>\n",
       "      <td>23800.0</td>\n",
       "      <td>0.0</td>\n",
       "      <td>33.0</td>\n",
       "      <td>24.0</td>\n",
       "      <td>18.0</td>\n",
       "      <td>0.0</td>\n",
       "    </tr>\n",
       "    <tr>\n",
       "      <th>2019-10-01</th>\n",
       "      <td>29.0</td>\n",
       "      <td>32.3</td>\n",
       "      <td>48.4</td>\n",
       "      <td>0.0</td>\n",
       "      <td>2151.11</td>\n",
       "      <td>3010.00</td>\n",
       "      <td>1740.0</td>\n",
       "      <td>0.0</td>\n",
       "      <td>624.52</td>\n",
       "      <td>970.97</td>\n",
       "      <td>...</td>\n",
       "      <td>0.5</td>\n",
       "      <td>0.0</td>\n",
       "      <td>19360.0</td>\n",
       "      <td>30100.0</td>\n",
       "      <td>26100.0</td>\n",
       "      <td>0.0</td>\n",
       "      <td>20.0</td>\n",
       "      <td>26.0</td>\n",
       "      <td>14.0</td>\n",
       "      <td>0.0</td>\n",
       "    </tr>\n",
       "  </tbody>\n",
       "</table>\n",
       "<p>5 rows × 24 columns</p>\n",
       "</div>"
      ],
      "text/plain": [
       "           load_percent                         room_coast_mean           \\\n",
       "Показатель      2_rooms 3_rooms 1_room P2_rooms         2_rooms  3_rooms   \n",
       "2019-06-01         56.7    33.3   36.7      0.0         2694.12  3090.00   \n",
       "2019-07-01         67.7    54.8   25.8      0.0         2417.14  3400.00   \n",
       "2019-08-01         93.5    67.7   80.6      0.0         2157.24  2933.33   \n",
       "2019-09-01         53.3    26.7   46.7      0.0         2195.00  2950.00   \n",
       "2019-10-01         29.0    32.3   48.4      0.0         2151.11  3010.00   \n",
       "\n",
       "                            room_profit_mean           ... rooms_per_day  \\\n",
       "Показатель  1_room P2_rooms          2_rooms  3_rooms  ...        1_room   \n",
       "2019-06-01  2200.0      0.0          1526.67  1030.00  ...           0.4   \n",
       "2019-07-01  1887.5      0.0          1637.42  1864.52  ...           0.3   \n",
       "2019-08-01  1736.0      0.0          2018.06  1987.10  ...           0.8   \n",
       "2019-09-01  1700.0      0.0        117067.00   786.67  ...           0.5   \n",
       "2019-10-01  1740.0      0.0           624.52   970.97  ...           0.5   \n",
       "\n",
       "                      profit                             guests          \\\n",
       "Показатель P2_rooms  2_rooms  3_rooms   1_room P2_rooms 2_rooms 3_rooms   \n",
       "2019-06-01      0.0  45800.0  30900.0  24200.0      0.0    11.0    13.0   \n",
       "2019-07-01      0.0  50760.0  57800.0  15100.0      0.0    27.0    53.0   \n",
       "2019-08-01      0.0  62560.0  61600.0  43400.0      0.0    44.0    48.0   \n",
       "2019-09-01      0.0  35120.0  23600.0  23800.0      0.0    33.0    24.0   \n",
       "2019-10-01      0.0  19360.0  30100.0  26100.0      0.0    20.0    26.0   \n",
       "\n",
       "                            \n",
       "Показатель 1_room P2_rooms  \n",
       "2019-06-01    7.0      0.0  \n",
       "2019-07-01   10.0      0.0  \n",
       "2019-08-01   23.0      0.0  \n",
       "2019-09-01   18.0      0.0  \n",
       "2019-10-01   14.0      0.0  \n",
       "\n",
       "[5 rows x 24 columns]"
      ]
     },
     "execution_count": 4,
     "metadata": {},
     "output_type": "execute_result"
    }
   ],
   "source": [
    "main_df.head()"
   ]
  },
  {
   "cell_type": "code",
   "execution_count": 5,
   "id": "4ea5fd05",
   "metadata": {},
   "outputs": [
    {
     "data": {
      "text/plain": [
       "Index(['2019-06-01', '2019-07-01', '2019-08-01', '2019-09-01', '2019-10-01',\n",
       "       '2019-11-01', '2019-12-01', '2020-01-01', '2020-02-01', '2020-03-01',\n",
       "       '2020-04-01', '2020-05-01', '2020-06-01', '2020-07-01', '2020-08-01',\n",
       "       '2020-09-01', '2020-10-01', '2020-11-01', '2020-12-01', '2021-01-01',\n",
       "       '2021-02-01', '2021-03-01', '2021-04-01', '2021-05-01', '2021-06-01',\n",
       "       '2021-07-01', '2021-08-01', '2021-09-01', '2021-10-01', '2021-11-01',\n",
       "       '2021-12-01', '2022-01-01', '2022-02-01', '2022-03-01', '2022-04-01',\n",
       "       '2022-05-01', '2022-06-01', '2022-07-01', '2022-08-01', '2022-09-01',\n",
       "       '2022-10-01', '2022-11-01', '2022-12-01', '2023-01-01', '2023-02-01',\n",
       "       '2023-03-01'],\n",
       "      dtype='object')"
      ]
     },
     "execution_count": 5,
     "metadata": {},
     "output_type": "execute_result"
    }
   ],
   "source": [
    "main_df.index"
   ]
  },
  {
   "cell_type": "code",
   "execution_count": 6,
   "id": "93c3af3b",
   "metadata": {},
   "outputs": [],
   "source": [
    "main_df.index = pd.to_datetime(main_df.index)"
   ]
  },
  {
   "cell_type": "code",
   "execution_count": 7,
   "id": "c32c26c7",
   "metadata": {},
   "outputs": [
    {
     "data": {
      "text/plain": [
       "DatetimeIndex(['2019-06-01', '2019-07-01', '2019-08-01', '2019-09-01',\n",
       "               '2019-10-01', '2019-11-01', '2019-12-01', '2020-01-01',\n",
       "               '2020-02-01', '2020-03-01', '2020-04-01', '2020-05-01',\n",
       "               '2020-06-01', '2020-07-01', '2020-08-01', '2020-09-01',\n",
       "               '2020-10-01', '2020-11-01', '2020-12-01', '2021-01-01',\n",
       "               '2021-02-01', '2021-03-01', '2021-04-01', '2021-05-01',\n",
       "               '2021-06-01', '2021-07-01', '2021-08-01', '2021-09-01',\n",
       "               '2021-10-01', '2021-11-01', '2021-12-01', '2022-01-01',\n",
       "               '2022-02-01', '2022-03-01', '2022-04-01', '2022-05-01',\n",
       "               '2022-06-01', '2022-07-01', '2022-08-01', '2022-09-01',\n",
       "               '2022-10-01', '2022-11-01', '2022-12-01', '2023-01-01',\n",
       "               '2023-02-01', '2023-03-01'],\n",
       "              dtype='datetime64[ns]', freq=None)"
      ]
     },
     "execution_count": 7,
     "metadata": {},
     "output_type": "execute_result"
    }
   ],
   "source": [
    "main_df.index"
   ]
  },
  {
   "cell_type": "markdown",
   "id": "102026f1",
   "metadata": {},
   "source": []
  },
  {
   "cell_type": "markdown",
   "id": "57b503f0",
   "metadata": {},
   "source": [
    "# Статистика по гостям:"
   ]
  },
  {
   "cell_type": "code",
   "execution_count": 8,
   "id": "f09df400",
   "metadata": {},
   "outputs": [],
   "source": [
    "guests_per_month = main_df.guests.groupby(main_df.index.month_name()).mean().round(2)\n",
    "guests_per_month = guests_per_month.loc[months]"
   ]
  },
  {
   "cell_type": "code",
   "execution_count": 9,
   "id": "5b48deb5",
   "metadata": {},
   "outputs": [
    {
     "data": {
      "text/html": [
       "<div>\n",
       "<style scoped>\n",
       "    .dataframe tbody tr th:only-of-type {\n",
       "        vertical-align: middle;\n",
       "    }\n",
       "\n",
       "    .dataframe tbody tr th {\n",
       "        vertical-align: top;\n",
       "    }\n",
       "\n",
       "    .dataframe thead th {\n",
       "        text-align: right;\n",
       "    }\n",
       "</style>\n",
       "<table border=\"1\" class=\"dataframe\">\n",
       "  <thead>\n",
       "    <tr style=\"text-align: right;\">\n",
       "      <th>Показатель</th>\n",
       "      <th>2_rooms</th>\n",
       "      <th>3_rooms</th>\n",
       "      <th>1_room</th>\n",
       "      <th>P2_rooms</th>\n",
       "    </tr>\n",
       "  </thead>\n",
       "  <tbody>\n",
       "    <tr>\n",
       "      <th>January</th>\n",
       "      <td>11.75</td>\n",
       "      <td>9.25</td>\n",
       "      <td>8.00</td>\n",
       "      <td>9.25</td>\n",
       "    </tr>\n",
       "    <tr>\n",
       "      <th>February</th>\n",
       "      <td>6.50</td>\n",
       "      <td>8.50</td>\n",
       "      <td>6.75</td>\n",
       "      <td>7.75</td>\n",
       "    </tr>\n",
       "    <tr>\n",
       "      <th>March</th>\n",
       "      <td>11.75</td>\n",
       "      <td>6.50</td>\n",
       "      <td>10.25</td>\n",
       "      <td>6.25</td>\n",
       "    </tr>\n",
       "    <tr>\n",
       "      <th>April</th>\n",
       "      <td>6.00</td>\n",
       "      <td>2.67</td>\n",
       "      <td>4.67</td>\n",
       "      <td>1.00</td>\n",
       "    </tr>\n",
       "    <tr>\n",
       "      <th>May</th>\n",
       "      <td>6.00</td>\n",
       "      <td>11.00</td>\n",
       "      <td>10.33</td>\n",
       "      <td>16.00</td>\n",
       "    </tr>\n",
       "    <tr>\n",
       "      <th>June</th>\n",
       "      <td>16.75</td>\n",
       "      <td>27.75</td>\n",
       "      <td>18.00</td>\n",
       "      <td>9.00</td>\n",
       "    </tr>\n",
       "    <tr>\n",
       "      <th>July</th>\n",
       "      <td>30.75</td>\n",
       "      <td>36.50</td>\n",
       "      <td>23.50</td>\n",
       "      <td>15.25</td>\n",
       "    </tr>\n",
       "    <tr>\n",
       "      <th>August</th>\n",
       "      <td>29.25</td>\n",
       "      <td>32.75</td>\n",
       "      <td>16.25</td>\n",
       "      <td>11.50</td>\n",
       "    </tr>\n",
       "    <tr>\n",
       "      <th>September</th>\n",
       "      <td>13.75</td>\n",
       "      <td>11.00</td>\n",
       "      <td>7.50</td>\n",
       "      <td>3.50</td>\n",
       "    </tr>\n",
       "    <tr>\n",
       "      <th>October</th>\n",
       "      <td>14.25</td>\n",
       "      <td>12.25</td>\n",
       "      <td>12.00</td>\n",
       "      <td>9.00</td>\n",
       "    </tr>\n",
       "    <tr>\n",
       "      <th>November</th>\n",
       "      <td>8.00</td>\n",
       "      <td>7.75</td>\n",
       "      <td>8.75</td>\n",
       "      <td>6.25</td>\n",
       "    </tr>\n",
       "    <tr>\n",
       "      <th>December</th>\n",
       "      <td>5.00</td>\n",
       "      <td>0.00</td>\n",
       "      <td>6.50</td>\n",
       "      <td>4.50</td>\n",
       "    </tr>\n",
       "  </tbody>\n",
       "</table>\n",
       "</div>"
      ],
      "text/plain": [
       "Показатель  2_rooms  3_rooms  1_room  P2_rooms\n",
       "January       11.75     9.25    8.00      9.25\n",
       "February       6.50     8.50    6.75      7.75\n",
       "March         11.75     6.50   10.25      6.25\n",
       "April          6.00     2.67    4.67      1.00\n",
       "May            6.00    11.00   10.33     16.00\n",
       "June          16.75    27.75   18.00      9.00\n",
       "July          30.75    36.50   23.50     15.25\n",
       "August        29.25    32.75   16.25     11.50\n",
       "September     13.75    11.00    7.50      3.50\n",
       "October       14.25    12.25   12.00      9.00\n",
       "November       8.00     7.75    8.75      6.25\n",
       "December       5.00     0.00    6.50      4.50"
      ]
     },
     "execution_count": 9,
     "metadata": {},
     "output_type": "execute_result"
    }
   ],
   "source": [
    "guests_per_month"
   ]
  },
  {
   "cell_type": "code",
   "execution_count": 10,
   "id": "c495d575",
   "metadata": {},
   "outputs": [
    {
     "data": {
      "text/plain": [
       "[Text(0.5, 1.0, 'Колличество гостей в среднем за месяц '),\n",
       " Text(0, 0.5, 'Кол-во гостей'),\n",
       " Text(0.5, 0, 'Месяцы')]"
      ]
     },
     "execution_count": 10,
     "metadata": {},
     "output_type": "execute_result"
    },
    {
     "data": {
      "image/png": "[encoded data removed]",
      "text/plain": [
       "<Figure size 1440x720 with 1 Axes>"
      ]
     },
     "metadata": {
      "needs_background": "light"
     },
     "output_type": "display_data"
    }
   ],
   "source": [
    "ax_guests_per_month = guests_per_month.plot.bar(figsize=(20,10), subplots=False)\n",
    "ax_guests_per_month.set(title='Колличество гостей в среднем за месяц ', ylabel=\"Кол-во гостей\", xlabel=\"Месяцы\")"
   ]
  },
  {
   "cell_type": "code",
   "execution_count": 11,
   "id": "3fd950c0",
   "metadata": {},
   "outputs": [],
   "source": [
    "guest_sums = main_df.guests.sum()"
   ]
  },
  {
   "cell_type": "code",
   "execution_count": 12,
   "id": "d9171747",
   "metadata": {},
   "outputs": [
    {
     "data": {
      "text/plain": [
       "Показатель\n",
       "2_rooms     627.0\n",
       "3_rooms     650.0\n",
       "1_room      515.0\n",
       "P2_rooms    380.0\n",
       "dtype: float64"
      ]
     },
     "execution_count": 12,
     "metadata": {},
     "output_type": "execute_result"
    }
   ],
   "source": [
    "guest_sums = guest_sums.squeeze() # all guests who was here; df.squeeze() - is method to return DF into Series.\n",
    "guest_sums"
   ]
  },
  {
   "cell_type": "code",
   "execution_count": 13,
   "id": "7c19d781",
   "metadata": {},
   "outputs": [
    {
     "data": {
      "text/plain": [
       "(-1.1991740956066785,\n",
       " 1.2377213677778511,\n",
       " -1.2115178791544852,\n",
       " 1.194642500496413)"
      ]
     },
     "execution_count": 13,
     "metadata": {},
     "output_type": "execute_result"
    },
    {
     "data": {
      "image/png": "[encoded data removed]",
      "text/plain": [
       "<Figure size 432x288 with 1 Axes>"
      ]
     },
     "metadata": {},
     "output_type": "display_data"
    }
   ],
   "source": [
    "explode = [0.1]*len(guest_sums)\n",
    "fig, ax = plt.subplots()\n",
    "ax.pie(guest_sums, explode=explode, labels=guest_sums.index, \n",
    "       autopct=lambda x: int(x/100.*guest_sums.sum()), shadow=True, startangle=90)\n",
    "ax.axis('equal') "
   ]
  },
  {
   "cell_type": "markdown",
   "id": "4f75b55a",
   "metadata": {},
   "source": [
    "# Статистика по выручке:"
   ]
  },
  {
   "cell_type": "code",
   "execution_count": 14,
   "id": "43eab7f2",
   "metadata": {},
   "outputs": [
    {
     "data": {
      "text/plain": [
       "3601378.59"
      ]
     },
     "execution_count": 14,
     "metadata": {},
     "output_type": "execute_result"
    }
   ],
   "source": [
    "main_df.profit.sum().sum()"
   ]
  },
  {
   "cell_type": "code",
   "execution_count": 15,
   "id": "85a53dcc",
   "metadata": {},
   "outputs": [],
   "source": [
    "profit_per_month = main_df.profit.groupby(main_df.index.month_name()).mean().round(2)\n",
    "profit_per_month = profit_per_month.loc[months]"
   ]
  },
  {
   "cell_type": "code",
   "execution_count": 16,
   "id": "a07ccefc",
   "metadata": {},
   "outputs": [
    {
     "data": {
      "text/plain": [
       "Показатель\n",
       "2_rooms     261280.86\n",
       "3_rooms     262446.88\n",
       "1_room      236514.79\n",
       "P2_rooms    167329.79\n",
       "dtype: float64"
      ]
     },
     "execution_count": 16,
     "metadata": {},
     "output_type": "execute_result"
    }
   ],
   "source": [
    "profit_per_month.sum()"
   ]
  },
  {
   "cell_type": "code",
   "execution_count": 17,
   "id": "7a9d6471",
   "metadata": {
    "scrolled": true
   },
   "outputs": [
    {
     "data": {
      "text/plain": [
       "January       91365.27\n",
       "February      41858.73\n",
       "March         74568.77\n",
       "April         36602.55\n",
       "May           72308.12\n",
       "June         123073.40\n",
       "July         159341.36\n",
       "August       136567.63\n",
       "September     46024.21\n",
       "October       77280.15\n",
       "November      37633.38\n",
       "December      30948.75\n",
       "dtype: float64"
      ]
     },
     "execution_count": 17,
     "metadata": {},
     "output_type": "execute_result"
    }
   ],
   "source": [
    "profit_per_month.T.sum()"
   ]
  },
  {
   "cell_type": "code",
   "execution_count": 18,
   "id": "ebda988c",
   "metadata": {},
   "outputs": [
    {
     "data": {
      "text/plain": [
       "[Text(0.5, 1.0, 'Выручка в среднем за месяц'),\n",
       " Text(0, 0.5, 'Сумма'),\n",
       " Text(0.5, 0, 'Месяцы')]"
      ]
     },
     "execution_count": 18,
     "metadata": {},
     "output_type": "execute_result"
    },
    {
     "data": {
      "image/png": "[encoded data removed]",
      "text/plain": [
       "<Figure size 1440x720 with 1 Axes>"
      ]
     },
     "metadata": {
      "needs_background": "light"
     },
     "output_type": "display_data"
    }
   ],
   "source": [
    "ax_profit_per_month = profit_per_month.plot.bar(figsize=(20,10), subplots=False)\n",
    "ax_profit_per_month.set(title='Выручка в среднем за месяц', ylabel=\"Сумма\", xlabel=\"Месяцы\")"
   ]
  },
  {
   "cell_type": "code",
   "execution_count": 19,
   "id": "6ad25995",
   "metadata": {},
   "outputs": [
    {
     "data": {
      "text/plain": [
       "Показатель\n",
       "2_rooms     261280.86\n",
       "3_rooms     262446.88\n",
       "1_room      236514.79\n",
       "P2_rooms    167329.79\n",
       "dtype: float64"
      ]
     },
     "execution_count": 19,
     "metadata": {},
     "output_type": "execute_result"
    }
   ],
   "source": [
    "profit_per_year_by_apart = profit_per_month.sum()\n",
    "profit_per_year_by_apart = profit_per_year_by_apart.squeeze()\n",
    "profit_per_year_by_apart"
   ]
  },
  {
   "cell_type": "code",
   "execution_count": 20,
   "id": "53c559ce",
   "metadata": {},
   "outputs": [
    {
     "data": {
      "text/plain": [
       "[Text(0.5, 1.0, 'Выручка в среднем за год'),\n",
       " Text(0, 0.5, 'ОБЪЕКТЫ'),\n",
       " Text(0.5, 0, 'СУММА')]"
      ]
     },
     "execution_count": 20,
     "metadata": {},
     "output_type": "execute_result"
    },
    {
     "data": {
      "image/png": "[encoded data removed]",
      "text/plain": [
       "<Figure size 1440x720 with 1 Axes>"
      ]
     },
     "metadata": {
      "needs_background": "light"
     },
     "output_type": "display_data"
    }
   ],
   "source": [
    "ax_profit_per_year_by_apart = profit_per_year_by_apart.plot.barh(figsize=(20,10), subplots=False)\n",
    "ax_profit_per_year_by_apart.set(title='Выручка в среднем за год', ylabel=\"ОБЪЕКТЫ\", xlabel=\"СУММА\")"
   ]
  },
  {
   "cell_type": "markdown",
   "id": "d5b15673",
   "metadata": {},
   "source": [
    "# Процент загрузки"
   ]
  },
  {
   "cell_type": "code",
   "execution_count": 21,
   "id": "e2890972",
   "metadata": {},
   "outputs": [
    {
     "data": {
      "text/html": [
       "<div>\n",
       "<style scoped>\n",
       "    .dataframe tbody tr th:only-of-type {\n",
       "        vertical-align: middle;\n",
       "    }\n",
       "\n",
       "    .dataframe tbody tr th {\n",
       "        vertical-align: top;\n",
       "    }\n",
       "\n",
       "    .dataframe thead th {\n",
       "        text-align: right;\n",
       "    }\n",
       "</style>\n",
       "<table border=\"1\" class=\"dataframe\">\n",
       "  <thead>\n",
       "    <tr style=\"text-align: right;\">\n",
       "      <th>Показатель</th>\n",
       "      <th>2_rooms</th>\n",
       "      <th>3_rooms</th>\n",
       "      <th>1_room</th>\n",
       "      <th>P2_rooms</th>\n",
       "    </tr>\n",
       "  </thead>\n",
       "  <tbody>\n",
       "    <tr>\n",
       "      <th>January</th>\n",
       "      <td>22.60</td>\n",
       "      <td>16.12</td>\n",
       "      <td>21.75</td>\n",
       "      <td>18.55</td>\n",
       "    </tr>\n",
       "    <tr>\n",
       "      <th>February</th>\n",
       "      <td>16.00</td>\n",
       "      <td>15.12</td>\n",
       "      <td>31.15</td>\n",
       "      <td>14.20</td>\n",
       "    </tr>\n",
       "    <tr>\n",
       "      <th>March</th>\n",
       "      <td>27.68</td>\n",
       "      <td>32.17</td>\n",
       "      <td>42.20</td>\n",
       "      <td>12.18</td>\n",
       "    </tr>\n",
       "    <tr>\n",
       "      <th>April</th>\n",
       "      <td>10.00</td>\n",
       "      <td>13.33</td>\n",
       "      <td>17.80</td>\n",
       "      <td>3.33</td>\n",
       "    </tr>\n",
       "    <tr>\n",
       "      <th>May</th>\n",
       "      <td>16.13</td>\n",
       "      <td>18.27</td>\n",
       "      <td>25.80</td>\n",
       "      <td>17.23</td>\n",
       "    </tr>\n",
       "    <tr>\n",
       "      <th>June</th>\n",
       "      <td>34.42</td>\n",
       "      <td>24.45</td>\n",
       "      <td>33.92</td>\n",
       "      <td>16.98</td>\n",
       "    </tr>\n",
       "    <tr>\n",
       "      <th>July</th>\n",
       "      <td>61.28</td>\n",
       "      <td>37.90</td>\n",
       "      <td>55.65</td>\n",
       "      <td>35.48</td>\n",
       "    </tr>\n",
       "    <tr>\n",
       "      <th>August</th>\n",
       "      <td>52.50</td>\n",
       "      <td>40.33</td>\n",
       "      <td>46.90</td>\n",
       "      <td>24.22</td>\n",
       "    </tr>\n",
       "    <tr>\n",
       "      <th>September</th>\n",
       "      <td>27.48</td>\n",
       "      <td>11.68</td>\n",
       "      <td>18.35</td>\n",
       "      <td>4.15</td>\n",
       "    </tr>\n",
       "    <tr>\n",
       "      <th>October</th>\n",
       "      <td>38.70</td>\n",
       "      <td>14.52</td>\n",
       "      <td>29.05</td>\n",
       "      <td>16.92</td>\n",
       "    </tr>\n",
       "    <tr>\n",
       "      <th>November</th>\n",
       "      <td>15.00</td>\n",
       "      <td>6.68</td>\n",
       "      <td>23.32</td>\n",
       "      <td>8.32</td>\n",
       "    </tr>\n",
       "    <tr>\n",
       "      <th>December</th>\n",
       "      <td>9.70</td>\n",
       "      <td>0.00</td>\n",
       "      <td>23.38</td>\n",
       "      <td>13.70</td>\n",
       "    </tr>\n",
       "  </tbody>\n",
       "</table>\n",
       "</div>"
      ],
      "text/plain": [
       "Показатель  2_rooms  3_rooms  1_room  P2_rooms\n",
       "January       22.60    16.12   21.75     18.55\n",
       "February      16.00    15.12   31.15     14.20\n",
       "March         27.68    32.17   42.20     12.18\n",
       "April         10.00    13.33   17.80      3.33\n",
       "May           16.13    18.27   25.80     17.23\n",
       "June          34.42    24.45   33.92     16.98\n",
       "July          61.28    37.90   55.65     35.48\n",
       "August        52.50    40.33   46.90     24.22\n",
       "September     27.48    11.68   18.35      4.15\n",
       "October       38.70    14.52   29.05     16.92\n",
       "November      15.00     6.68   23.32      8.32\n",
       "December       9.70     0.00   23.38     13.70"
      ]
     },
     "execution_count": 21,
     "metadata": {},
     "output_type": "execute_result"
    }
   ],
   "source": [
    "load_percent = main_df['load_percent'].groupby(main_df.index.month_name()).mean().round(2)\n",
    "load_percent = load_percent.loc[months]\n",
    "load_percent"
   ]
  },
  {
   "cell_type": "code",
   "execution_count": 22,
   "id": "9b44e2ef",
   "metadata": {},
   "outputs": [
    {
     "data": {
      "text/plain": [
       "[Text(0.5, 1.0, 'Процент загрузки в среднем за месяц'),\n",
       " Text(0, 0.5, 'Процен загрузки'),\n",
       " Text(0.5, 0, 'Месяцы')]"
      ]
     },
     "execution_count": 22,
     "metadata": {},
     "output_type": "execute_result"
    },
    {
     "data": {
      "image/png": "[encoded data removed]",
      "text/plain": [
       "<Figure size 1440x720 with 1 Axes>"
      ]
     },
     "metadata": {
      "needs_background": "light"
     },
     "output_type": "display_data"
    }
   ],
   "source": [
    "ax_load_percent = load_percent.plot.bar(figsize=(20,10), subplots=False)\n",
    "ax_load_percent.set(title='Процент загрузки в среднем за месяц', ylabel=\"Процен загрузки\", xlabel=\"Месяцы\")"
   ]
  },
  {
   "cell_type": "code",
   "execution_count": 23,
   "id": "b7286ec8",
   "metadata": {},
   "outputs": [],
   "source": [
    "mean_load_percent_by_month = main_df[\"load_percent\"].mean(axis=\"columns\")"
   ]
  },
  {
   "cell_type": "code",
   "execution_count": 24,
   "id": "80397782",
   "metadata": {},
   "outputs": [
    {
     "data": {
      "text/plain": [
       "April        11.12\n",
       "August       40.99\n",
       "December     11.69\n",
       "February     19.12\n",
       "January      19.76\n",
       "July         47.58\n",
       "June         27.44\n",
       "March        28.56\n",
       "May          19.36\n",
       "November     13.33\n",
       "October      24.80\n",
       "September    15.41\n",
       "dtype: float64"
      ]
     },
     "execution_count": 24,
     "metadata": {},
     "output_type": "execute_result"
    }
   ],
   "source": [
    "mean_load_percent_by_month.groupby(main_df.index.month_name()).mean().round(2)"
   ]
  }
 ],
 "metadata": {
  "kernelspec": {
   "display_name": "Python 3 (ipykernel)",
   "language": "python",
   "name": "python3"
  },
  "language_info": {
   "codemirror_mode": {
    "name": "ipython",
    "version": 3
   },
   "file_extension": ".py",
   "mimetype": "text/x-python",
   "name": "python",
   "nbconvert_exporter": "python",
   "pygments_lexer": "ipython3",
   "version": "3.10.2"
  }
 },
 "nbformat": 4,
 "nbformat_minor": 5
}

{
 "cells": [
  {
   "cell_type": "code",
   "execution_count": 1,
   "id": "7f45d96e",
   "metadata": {
    "tags": []
   },
   "outputs": [],
   "source": [
    "import pandas as pd\n",
    "import numpy as np"
   ]
  },
  {
   "cell_type": "code",
   "execution_count": 2,
   "id": "b7c2beec",
   "metadata": {
    "tags": []
   },
   "outputs": [],
   "source": [
    "from scipy import stats\n",
    "import matplotlib.pyplot as plt\n",
    "import seaborn as sns"
   ]
  },
  {
   "cell_type": "code",
   "execution_count": 3,
   "id": "9b7dbd81",
   "metadata": {
    "tags": []
   },
   "outputs": [],
   "source": [
    "dim = pd.read_csv('locate', header=[0,1], index_col=0)\n",
    "cupid = pd.read_csv('cupid', header=[0,1], index_col=0)\n",
    "pa = pd.read_csv('main', header=[0,1], index_col=0)"
   ]
  },
  {
   "cell_type": "code",
   "execution_count": 4,
   "id": "e4689dc1",
   "metadata": {
    "tags": []
   },
   "outputs": [
    {
     "data": {
      "text/plain": [
       "Показатель\n",
       "N1    77.800\n",
       "N2    39.175\n",
       "N3    58.675\n",
       "N4    62.625\n",
       "N5    41.475\n",
       "N6    49.025\n",
       "N7    53.800\n",
       "N8    43.950\n",
       "dtype: float64"
      ]
     },
     "execution_count": 4,
     "metadata": {},
     "output_type": "execute_result"
    }
   ],
   "source": [
    "dim.load_percent.mean()"
   ]
  },
  {
   "cell_type": "code",
   "execution_count": null,
   "id": "75f321cf",
   "metadata": {},
   "outputs": [],
   "source": []
  },
  {
   "cell_type": "code",
   "execution_count": null,
   "id": "8fd10d2d",
   "metadata": {},
   "outputs": [],
   "source": []
  },
  {
   "cell_type": "code",
   "execution_count": null,
   "id": "43180c2c",
   "metadata": {},
   "outputs": [],
   "source": []
  },
  {
   "cell_type": "code",
   "execution_count": null,
   "id": "458a9aa5",
   "metadata": {},
   "outputs": [],
   "source": []
  },
  {
   "cell_type": "markdown",
   "id": "bfef90d8",
   "metadata": {},
   "source": [
    "# Купидон"
   ]
  },
  {
   "cell_type": "raw",
   "id": "af35be96",
   "metadata": {},
   "source": [
    "stn_2p - 5\n",
    "comf_2p - 7\n",
    "imcomf_2p - 4\n",
    "---------\n",
    "16\n",
    "\n",
    "\n",
    "fam_3p - 13\n",
    "fam_4p - 6\n",
    "---------\n",
    "19\n",
    "\n",
    "\n",
    "Мансарды:\n",
    "2м с разд - 1\n",
    "2м с двусп - 9\n",
    "3м с балк - 2\n",
    "---------\n",
    "12\n"
   ]
  },
  {
   "cell_type": "code",
   "execution_count": 12,
   "id": "ba5b6cbc",
   "metadata": {},
   "outputs": [],
   "source": [
    "cupid.T.to_excel(\"cudon_1.0.xlsx\")"
   ]
  },
  {
   "cell_type": "markdown",
   "id": "b023b7b5",
   "metadata": {},
   "source": [
    "В Купидоне категории намеров объеденены в две группы (двухместные и семейные)"
   ]
  },
  {
   "cell_type": "code",
   "execution_count": 5,
   "id": "e6cb974d",
   "metadata": {},
   "outputs": [
    {
     "data": {
      "text/plain": [
       "Показатель\n",
       "fam_3p       1119928.75\n",
       "comf_2p       808482.16\n",
       "fam_4p        665819.67\n",
       "imcomf_2p     648502.75\n",
       "stn_2p        566055.00\n",
       "dtype: float64"
      ]
     },
     "execution_count": 5,
     "metadata": {},
     "output_type": "execute_result"
    }
   ],
   "source": [
    "cupid.profit.sum().sort_values(ascending=False)"
   ]
  },
  {
   "cell_type": "code",
   "execution_count": 6,
   "id": "0a8ad896",
   "metadata": {},
   "outputs": [
    {
     "data": {
      "text/plain": [
       "Показатель\n",
       "fam_3p       11.8\n",
       "comf_2p      10.7\n",
       "imcomf_2p     8.5\n",
       "stn_2p        7.7\n",
       "fam_4p        5.7\n",
       "dtype: float64"
      ]
     },
     "execution_count": 6,
     "metadata": {},
     "output_type": "execute_result"
    }
   ],
   "source": [
    "cupid.rooms_per_day.sum().sort_values(ascending=False)"
   ]
  },
  {
   "cell_type": "code",
   "execution_count": 7,
   "id": "f9df7226",
   "metadata": {},
   "outputs": [
    {
     "data": {
      "text/plain": [
       "Показатель\n",
       "imcomf_2p    52.825\n",
       "stn_2p       38.400\n",
       "comf_2p      38.275\n",
       "fam_4p       23.825\n",
       "fam_3p       22.550\n",
       "dtype: float64"
      ]
     },
     "execution_count": 7,
     "metadata": {},
     "output_type": "execute_result"
    }
   ],
   "source": [
    "cupid.load_percent.mean().sort_values(ascending=False)"
   ]
  },
  {
   "cell_type": "code",
   "execution_count": 8,
   "id": "a7acdcde",
   "metadata": {},
   "outputs": [
    {
     "data": {
      "text/plain": [
       "3381899.33"
      ]
     },
     "execution_count": 8,
     "metadata": {},
     "output_type": "execute_result"
    }
   ],
   "source": [
    "cupid.iloc[1:3].profit.sum().sum()"
   ]
  },
  {
   "cell_type": "code",
   "execution_count": 9,
   "id": "1cd990d4",
   "metadata": {},
   "outputs": [],
   "source": [
    "cup_2p = ['comf_2p', 'imcomf_2p', 'stn_2p']\n",
    "cup_fam = ['fam_3p', 'fam_4p']"
   ]
  },
  {
   "cell_type": "code",
   "execution_count": null,
   "id": "4ed43cc3",
   "metadata": {},
   "outputs": [],
   "source": []
  },
  {
   "cell_type": "code",
   "execution_count": null,
   "id": "758766ed",
   "metadata": {},
   "outputs": [],
   "source": []
  },
  {
   "cell_type": "markdown",
   "id": "a985c863",
   "metadata": {},
   "source": [
    "Ниже выручка"
   ]
  },
  {
   "cell_type": "code",
   "execution_count": 10,
   "id": "0e4e5427",
   "metadata": {},
   "outputs": [
    {
     "data": {
      "text/plain": [
       "1651750.91"
      ]
     },
     "execution_count": 10,
     "metadata": {},
     "output_type": "execute_result"
    }
   ],
   "source": [
    "cupid.iloc[1:3].profit[cup_2p].sum().sum()"
   ]
  },
  {
   "cell_type": "code",
   "execution_count": 11,
   "id": "8837fb23",
   "metadata": {},
   "outputs": [
    {
     "data": {
      "text/plain": [
       "1730148.42"
      ]
     },
     "execution_count": 11,
     "metadata": {},
     "output_type": "execute_result"
    }
   ],
   "source": [
    "cupid.iloc[1:3].profit[cup_fam].sum().sum()"
   ]
  },
  {
   "cell_type": "markdown",
   "id": "55fd17c9",
   "metadata": {},
   "source": [
    "Процент загрузки"
   ]
  },
  {
   "cell_type": "code",
   "execution_count": 39,
   "id": "9f4da109",
   "metadata": {},
   "outputs": [
    {
     "data": {
      "text/plain": [
       "60.73333333333333"
      ]
     },
     "execution_count": 39,
     "metadata": {},
     "output_type": "execute_result"
    }
   ],
   "source": [
    "cupid.iloc[2].load_percent[cup_2p].mean()"
   ]
  },
  {
   "cell_type": "code",
   "execution_count": 38,
   "id": "da6fb112",
   "metadata": {},
   "outputs": [
    {
     "data": {
      "text/plain": [
       "43.4"
      ]
     },
     "execution_count": 38,
     "metadata": {},
     "output_type": "execute_result"
    }
   ],
   "source": [
    "cupid.iloc[2].load_percent[cup_fam].mean()"
   ]
  },
  {
   "cell_type": "markdown",
   "id": "3e572d6b",
   "metadata": {},
   "source": [
    "Средняя стоимость номера"
   ]
  },
  {
   "cell_type": "code",
   "execution_count": 14,
   "id": "cf102db6",
   "metadata": {},
   "outputs": [
    {
     "data": {
      "text/plain": [
       "Показатель\n",
       "comf_2p      2464.120\n",
       "imcomf_2p    2528.950\n",
       "stn_2p       2431.245\n",
       "dtype: float64"
      ]
     },
     "execution_count": 14,
     "metadata": {},
     "output_type": "execute_result"
    }
   ],
   "source": [
    "cupid.iloc[1:3].room_coast_mean[cup_2p].mean()"
   ]
  },
  {
   "cell_type": "code",
   "execution_count": 15,
   "id": "3a84d263",
   "metadata": {},
   "outputs": [
    {
     "data": {
      "text/html": [
       "<div>\n",
       "<style scoped>\n",
       "    .dataframe tbody tr th:only-of-type {\n",
       "        vertical-align: middle;\n",
       "    }\n",
       "\n",
       "    .dataframe tbody tr th {\n",
       "        vertical-align: top;\n",
       "    }\n",
       "\n",
       "    .dataframe thead th {\n",
       "        text-align: right;\n",
       "    }\n",
       "</style>\n",
       "<table border=\"1\" class=\"dataframe\">\n",
       "  <thead>\n",
       "    <tr style=\"text-align: right;\">\n",
       "      <th>Показатель</th>\n",
       "      <th>fam_3p</th>\n",
       "      <th>fam_4p</th>\n",
       "    </tr>\n",
       "  </thead>\n",
       "  <tbody>\n",
       "    <tr>\n",
       "      <th>2023-07-01</th>\n",
       "      <td>3045.34</td>\n",
       "      <td>3514.42</td>\n",
       "    </tr>\n",
       "    <tr>\n",
       "      <th>2023-08-01</th>\n",
       "      <td>3191.17</td>\n",
       "      <td>3974.67</td>\n",
       "    </tr>\n",
       "  </tbody>\n",
       "</table>\n",
       "</div>"
      ],
      "text/plain": [
       "Показатель   fam_3p   fam_4p\n",
       "2023-07-01  3045.34  3514.42\n",
       "2023-08-01  3191.17  3974.67"
      ]
     },
     "execution_count": 15,
     "metadata": {},
     "output_type": "execute_result"
    }
   ],
   "source": [
    "cupid.iloc[1:3].room_coast_mean[cup_fam]"
   ]
  },
  {
   "cell_type": "markdown",
   "id": "b191aafc",
   "metadata": {},
   "source": [
    "Занято комнат в день"
   ]
  },
  {
   "cell_type": "code",
   "execution_count": 16,
   "id": "926e9293",
   "metadata": {},
   "outputs": [
    {
     "data": {
      "text/plain": [
       "Показатель\n",
       "comf_2p      4.30\n",
       "imcomf_2p    3.25\n",
       "stn_2p       3.25\n",
       "dtype: float64"
      ]
     },
     "execution_count": 16,
     "metadata": {},
     "output_type": "execute_result"
    }
   ],
   "source": [
    "cupid.iloc[1:3].rooms_per_day[cup_2p].mean()"
   ]
  },
  {
   "cell_type": "code",
   "execution_count": 17,
   "id": "76c05ad5",
   "metadata": {},
   "outputs": [
    {
     "data": {
      "text/plain": [
       "Показатель\n",
       "fam_3p    5.6\n",
       "fam_4p    2.8\n",
       "dtype: float64"
      ]
     },
     "execution_count": 17,
     "metadata": {},
     "output_type": "execute_result"
    }
   ],
   "source": [
    "cupid.iloc[1:3].rooms_per_day[cup_fam].mean()"
   ]
  },
  {
   "cell_type": "markdown",
   "id": "ca0c3aa4",
   "metadata": {},
   "source": [
    "# Pechory Apartment  "
   ]
  },
  {
   "cell_type": "markdown",
   "id": "2359e09d",
   "metadata": {},
   "source": [
    "Доход"
   ]
  },
  {
   "cell_type": "code",
   "execution_count": 5,
   "id": "01f4d97b-cbae-451a-9be6-7ec3be67b4cf",
   "metadata": {
    "tags": []
   },
   "outputs": [
    {
     "data": {
      "text/html": [
       "<div>\n",
       "<style scoped>\n",
       "    .dataframe tbody tr th:only-of-type {\n",
       "        vertical-align: middle;\n",
       "    }\n",
       "\n",
       "    .dataframe tbody tr th {\n",
       "        vertical-align: top;\n",
       "    }\n",
       "\n",
       "    .dataframe thead tr th {\n",
       "        text-align: left;\n",
       "    }\n",
       "</style>\n",
       "<table border=\"1\" class=\"dataframe\">\n",
       "  <thead>\n",
       "    <tr>\n",
       "      <th></th>\n",
       "      <th colspan=\"4\" halign=\"left\">load_percent</th>\n",
       "      <th colspan=\"4\" halign=\"left\">room_coast_mean</th>\n",
       "      <th colspan=\"2\" halign=\"left\">room_profit_mean</th>\n",
       "      <th>...</th>\n",
       "      <th colspan=\"2\" halign=\"left\">rooms_per_day</th>\n",
       "      <th colspan=\"4\" halign=\"left\">profit</th>\n",
       "      <th colspan=\"4\" halign=\"left\">guests</th>\n",
       "    </tr>\n",
       "    <tr>\n",
       "      <th>Показатель</th>\n",
       "      <th>2_rooms</th>\n",
       "      <th>3_rooms</th>\n",
       "      <th>1_room</th>\n",
       "      <th>P2_rooms</th>\n",
       "      <th>2_rooms</th>\n",
       "      <th>3_rooms</th>\n",
       "      <th>1_room</th>\n",
       "      <th>P2_rooms</th>\n",
       "      <th>2_rooms</th>\n",
       "      <th>3_rooms</th>\n",
       "      <th>...</th>\n",
       "      <th>1_room</th>\n",
       "      <th>P2_rooms</th>\n",
       "      <th>2_rooms</th>\n",
       "      <th>3_rooms</th>\n",
       "      <th>1_room</th>\n",
       "      <th>P2_rooms</th>\n",
       "      <th>2_rooms</th>\n",
       "      <th>3_rooms</th>\n",
       "      <th>1_room</th>\n",
       "      <th>P2_rooms</th>\n",
       "    </tr>\n",
       "  </thead>\n",
       "  <tbody>\n",
       "    <tr>\n",
       "      <th>2023-09-01</th>\n",
       "      <td>46.7</td>\n",
       "      <td>23.3</td>\n",
       "      <td>53.3</td>\n",
       "      <td>46.7</td>\n",
       "      <td>2337.00</td>\n",
       "      <td>2800.23</td>\n",
       "      <td>2119.75</td>\n",
       "      <td>2388.57</td>\n",
       "      <td>1090.60</td>\n",
       "      <td>653.39</td>\n",
       "      <td>...</td>\n",
       "      <td>0.5</td>\n",
       "      <td>0.5</td>\n",
       "      <td>32718.0</td>\n",
       "      <td>19601.6</td>\n",
       "      <td>33916.0</td>\n",
       "      <td>33440.0</td>\n",
       "      <td>14.0</td>\n",
       "      <td>24.0</td>\n",
       "      <td>17.0</td>\n",
       "      <td>13.0</td>\n",
       "    </tr>\n",
       "    <tr>\n",
       "      <th>2023-10-01</th>\n",
       "      <td>32.8</td>\n",
       "      <td>21.3</td>\n",
       "      <td>27.9</td>\n",
       "      <td>18.0</td>\n",
       "      <td>2223.28</td>\n",
       "      <td>3080.00</td>\n",
       "      <td>2027.29</td>\n",
       "      <td>2520.00</td>\n",
       "      <td>728.94</td>\n",
       "      <td>656.39</td>\n",
       "      <td>...</td>\n",
       "      <td>0.3</td>\n",
       "      <td>0.2</td>\n",
       "      <td>44465.6</td>\n",
       "      <td>40040.0</td>\n",
       "      <td>34464.0</td>\n",
       "      <td>27720.0</td>\n",
       "      <td>20.0</td>\n",
       "      <td>27.0</td>\n",
       "      <td>18.0</td>\n",
       "      <td>17.0</td>\n",
       "    </tr>\n",
       "    <tr>\n",
       "      <th>2023-11-01</th>\n",
       "      <td>30.0</td>\n",
       "      <td>23.3</td>\n",
       "      <td>53.3</td>\n",
       "      <td>30.0</td>\n",
       "      <td>2566.67</td>\n",
       "      <td>2805.71</td>\n",
       "      <td>2150.00</td>\n",
       "      <td>2248.89</td>\n",
       "      <td>770.00</td>\n",
       "      <td>654.67</td>\n",
       "      <td>...</td>\n",
       "      <td>0.5</td>\n",
       "      <td>0.3</td>\n",
       "      <td>23100.0</td>\n",
       "      <td>19640.0</td>\n",
       "      <td>34400.0</td>\n",
       "      <td>20240.0</td>\n",
       "      <td>14.0</td>\n",
       "      <td>16.0</td>\n",
       "      <td>7.0</td>\n",
       "      <td>3.0</td>\n",
       "    </tr>\n",
       "    <tr>\n",
       "      <th>2023-12-01</th>\n",
       "      <td>12.9</td>\n",
       "      <td>9.7</td>\n",
       "      <td>29.0</td>\n",
       "      <td>19.4</td>\n",
       "      <td>2461.25</td>\n",
       "      <td>2233.33</td>\n",
       "      <td>2275.56</td>\n",
       "      <td>2401.67</td>\n",
       "      <td>317.58</td>\n",
       "      <td>216.13</td>\n",
       "      <td>...</td>\n",
       "      <td>0.3</td>\n",
       "      <td>0.2</td>\n",
       "      <td>9845.0</td>\n",
       "      <td>6700.0</td>\n",
       "      <td>20480.0</td>\n",
       "      <td>14410.0</td>\n",
       "      <td>8.0</td>\n",
       "      <td>8.0</td>\n",
       "      <td>14.0</td>\n",
       "      <td>5.0</td>\n",
       "    </tr>\n",
       "    <tr>\n",
       "      <th>2024-01-01</th>\n",
       "      <td>16.1</td>\n",
       "      <td>19.4</td>\n",
       "      <td>16.1</td>\n",
       "      <td>16.1</td>\n",
       "      <td>5600.00</td>\n",
       "      <td>3950.00</td>\n",
       "      <td>3920.00</td>\n",
       "      <td>4848.00</td>\n",
       "      <td>903.23</td>\n",
       "      <td>764.52</td>\n",
       "      <td>...</td>\n",
       "      <td>0.2</td>\n",
       "      <td>0.2</td>\n",
       "      <td>28000.0</td>\n",
       "      <td>23700.0</td>\n",
       "      <td>19600.0</td>\n",
       "      <td>24240.0</td>\n",
       "      <td>10.0</td>\n",
       "      <td>22.0</td>\n",
       "      <td>8.0</td>\n",
       "      <td>8.0</td>\n",
       "    </tr>\n",
       "  </tbody>\n",
       "</table>\n",
       "<p>5 rows × 24 columns</p>\n",
       "</div>"
      ],
      "text/plain": [
       "           load_percent                         room_coast_mean           \\\n",
       "Показатель      2_rooms 3_rooms 1_room P2_rooms         2_rooms  3_rooms   \n",
       "2023-09-01         46.7    23.3   53.3     46.7         2337.00  2800.23   \n",
       "2023-10-01         32.8    21.3   27.9     18.0         2223.28  3080.00   \n",
       "2023-11-01         30.0    23.3   53.3     30.0         2566.67  2805.71   \n",
       "2023-12-01         12.9     9.7   29.0     19.4         2461.25  2233.33   \n",
       "2024-01-01         16.1    19.4   16.1     16.1         5600.00  3950.00   \n",
       "\n",
       "                             room_profit_mean          ... rooms_per_day  \\\n",
       "Показатель   1_room P2_rooms          2_rooms 3_rooms  ...        1_room   \n",
       "2023-09-01  2119.75  2388.57          1090.60  653.39  ...           0.5   \n",
       "2023-10-01  2027.29  2520.00           728.94  656.39  ...           0.3   \n",
       "2023-11-01  2150.00  2248.89           770.00  654.67  ...           0.5   \n",
       "2023-12-01  2275.56  2401.67           317.58  216.13  ...           0.3   \n",
       "2024-01-01  3920.00  4848.00           903.23  764.52  ...           0.2   \n",
       "\n",
       "                      profit                             guests          \\\n",
       "Показатель P2_rooms  2_rooms  3_rooms   1_room P2_rooms 2_rooms 3_rooms   \n",
       "2023-09-01      0.5  32718.0  19601.6  33916.0  33440.0    14.0    24.0   \n",
       "2023-10-01      0.2  44465.6  40040.0  34464.0  27720.0    20.0    27.0   \n",
       "2023-11-01      0.3  23100.0  19640.0  34400.0  20240.0    14.0    16.0   \n",
       "2023-12-01      0.2   9845.0   6700.0  20480.0  14410.0     8.0     8.0   \n",
       "2024-01-01      0.2  28000.0  23700.0  19600.0  24240.0    10.0    22.0   \n",
       "\n",
       "                            \n",
       "Показатель 1_room P2_rooms  \n",
       "2023-09-01   17.0     13.0  \n",
       "2023-10-01   18.0     17.0  \n",
       "2023-11-01    7.0      3.0  \n",
       "2023-12-01   14.0      5.0  \n",
       "2024-01-01    8.0      8.0  \n",
       "\n",
       "[5 rows x 24 columns]"
      ]
     },
     "execution_count": 5,
     "metadata": {},
     "output_type": "execute_result"
    }
   ],
   "source": [
    "pa.tail()"
   ]
  },
  {
   "cell_type": "code",
   "execution_count": 18,
   "id": "fe8c2776",
   "metadata": {},
   "outputs": [
    {
     "data": {
      "text/plain": [
       "1423224.02"
      ]
     },
     "execution_count": 18,
     "metadata": {},
     "output_type": "execute_result"
    }
   ],
   "source": [
    "pa.profit.loc['2023-01-01': '2023-10-01'].sum().sum()"
   ]
  },
  {
   "cell_type": "code",
   "execution_count": 19,
   "id": "d8037539",
   "metadata": {},
   "outputs": [
    {
     "data": {
      "text/plain": [
       "973744.65"
      ]
     },
     "execution_count": 19,
     "metadata": {},
     "output_type": "execute_result"
    }
   ],
   "source": [
    "pa.profit.loc['2022-01-01': '2022-10-01'].sum().sum()"
   ]
  },
  {
   "cell_type": "markdown",
   "id": "5e609e2e",
   "metadata": {},
   "source": [
    "Процент загрузки"
   ]
  },
  {
   "cell_type": "code",
   "execution_count": 7,
   "id": "55acb93c",
   "metadata": {},
   "outputs": [
    {
     "data": {
      "text/plain": [
       "43.4875"
      ]
     },
     "execution_count": 7,
     "metadata": {},
     "output_type": "execute_result"
    }
   ],
   "source": [
    "pa.load_percent.loc['2023-01-01': '2023-10-01'].mean()"
   ]
  },
  {
   "cell_type": "code",
   "execution_count": 21,
   "id": "4111e8eb",
   "metadata": {},
   "outputs": [
    {
     "data": {
      "text/plain": [
       "Показатель\n",
       "2_rooms     29.36\n",
       "3_rooms     19.33\n",
       "1_room      44.95\n",
       "P2_rooms    29.77\n",
       "dtype: float64"
      ]
     },
     "execution_count": 21,
     "metadata": {},
     "output_type": "execute_result"
    }
   ],
   "source": [
    "pa.load_percent.loc['2022-01-01': '2022-10-01'].mean()"
   ]
  },
  {
   "cell_type": "code",
   "execution_count": 22,
   "id": "7f08d2d9",
   "metadata": {},
   "outputs": [
    {
     "data": {
      "text/plain": [
       "828973.05"
      ]
     },
     "execution_count": 22,
     "metadata": {},
     "output_type": "execute_result"
    }
   ],
   "source": [
    "pa.profit.loc['2021-01-01': '2021-09-01'].sum().sum()"
   ]
  },
  {
   "cell_type": "markdown",
   "id": "8e8eaede",
   "metadata": {},
   "source": [
    "Средняя стоимость номера"
   ]
  },
  {
   "cell_type": "code",
   "execution_count": 23,
   "id": "6330882c",
   "metadata": {},
   "outputs": [
    {
     "data": {
      "text/plain": [
       "Показатель\n",
       "2_rooms     2711.598\n",
       "3_rooms     3303.274\n",
       "1_room      2188.634\n",
       "P2_rooms    2439.823\n",
       "dtype: float64"
      ]
     },
     "execution_count": 23,
     "metadata": {},
     "output_type": "execute_result"
    }
   ],
   "source": [
    "pa.room_coast_mean.loc['2023-01-01': '2023-10-01'].mean()"
   ]
  },
  {
   "cell_type": "code",
   "execution_count": 24,
   "id": "5edc5c61",
   "metadata": {},
   "outputs": [
    {
     "data": {
      "text/plain": [
       "Показатель\n",
       "2_rooms     2495.526\n",
       "3_rooms     4141.893\n",
       "1_room      2116.267\n",
       "P2_rooms    2440.069\n",
       "dtype: float64"
      ]
     },
     "execution_count": 24,
     "metadata": {},
     "output_type": "execute_result"
    }
   ],
   "source": [
    "pa.room_coast_mean.loc['2022-01-01': '2022-10-01'].mean()"
   ]
  },
  {
   "cell_type": "markdown",
   "id": "f8e47976",
   "metadata": {},
   "source": [
    "Количество гостей"
   ]
  },
  {
   "cell_type": "code",
   "execution_count": 25,
   "id": "a0735f55",
   "metadata": {},
   "outputs": [
    {
     "data": {
      "text/plain": [
       "Показатель\n",
       "2_rooms     199.0\n",
       "3_rooms     297.0\n",
       "1_room      147.0\n",
       "P2_rooms    142.0\n",
       "dtype: float64"
      ]
     },
     "execution_count": 25,
     "metadata": {},
     "output_type": "execute_result"
    }
   ],
   "source": [
    "pa.guests.loc['2023-01-01': '2023-10-01'].sum()"
   ]
  },
  {
   "cell_type": "code",
   "execution_count": 26,
   "id": "1f7940ad",
   "metadata": {},
   "outputs": [
    {
     "data": {
      "text/plain": [
       "Показатель\n",
       "2_rooms     110.0\n",
       "3_rooms     167.0\n",
       "1_room      184.0\n",
       "P2_rooms    147.0\n",
       "dtype: float64"
      ]
     },
     "execution_count": 26,
     "metadata": {},
     "output_type": "execute_result"
    }
   ],
   "source": [
    "pa.guests.loc['2022-01-01': '2022-10-01'].sum()"
   ]
  },
  {
   "cell_type": "code",
   "execution_count": 27,
   "id": "37aae8d8",
   "metadata": {},
   "outputs": [
    {
     "data": {
      "text/plain": [
       "Показатель\n",
       "2_rooms     156.0\n",
       "3_rooms     134.0\n",
       "1_room      112.0\n",
       "P2_rooms    131.0\n",
       "dtype: float64"
      ]
     },
     "execution_count": 27,
     "metadata": {},
     "output_type": "execute_result"
    }
   ],
   "source": [
    "pa.guests.loc['2021-01-01': '2021-10-01'].sum()"
   ]
  },
  {
   "cell_type": "code",
   "execution_count": null,
   "id": "772533b4",
   "metadata": {},
   "outputs": [],
   "source": []
  },
  {
   "cell_type": "code",
   "execution_count": null,
   "id": "a70e7acc",
   "metadata": {},
   "outputs": [],
   "source": []
  },
  {
   "cell_type": "markdown",
   "id": "ba029369",
   "metadata": {},
   "source": [
    "# DIM"
   ]
  },
  {
   "cell_type": "code",
   "execution_count": 5,
   "id": "011c92c8",
   "metadata": {
    "tags": []
   },
   "outputs": [
    {
     "data": {
      "text/plain": [
       "Показатель\n",
       "N1    818214.26\n",
       "N7    555225.03\n",
       "N3    465450.00\n",
       "N5    322125.00\n",
       "N6    265250.00\n",
       "N8    252300.00\n",
       "N2    251100.00\n",
       "N4    126350.00\n",
       "dtype: float64"
      ]
     },
     "execution_count": 5,
     "metadata": {},
     "output_type": "execute_result"
    }
   ],
   "source": [
    "dim.profit.sum().sort_values(ascending=False)"
   ]
  },
  {
   "cell_type": "code",
   "execution_count": 11,
   "id": "49c5cdf8",
   "metadata": {},
   "outputs": [],
   "source": [
    "dim.to_excel(\"dimmm_1.xlsx\")"
   ]
  },
  {
   "cell_type": "code",
   "execution_count": 8,
   "id": "efce142c",
   "metadata": {
    "tags": []
   },
   "outputs": [
    {
     "data": {
      "text/plain": [
       "3056014.29"
      ]
     },
     "execution_count": 8,
     "metadata": {},
     "output_type": "execute_result"
    }
   ],
   "source": [
    "dim.profit.sum().sum()"
   ]
  }
 ],
 "metadata": {
  "kernelspec": {
   "display_name": "Python 3 (ipykernel)",
   "language": "python",
   "name": "python3"
  },
  "language_info": {
   "codemirror_mode": {
    "name": "ipython",
    "version": 3
   },
   "file_extension": ".py",
   "mimetype": "text/x-python",
   "name": "python",
   "nbconvert_exporter": "python",
   "pygments_lexer": "ipython3",
   "version": "3.11.4"
  }
 },
 "nbformat": 4,
 "nbformat_minor": 5
}

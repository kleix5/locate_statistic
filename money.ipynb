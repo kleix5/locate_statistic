{
 "cells": [
  {
   "cell_type": "markdown",
   "id": "dca3c5d0",
   "metadata": {},
   "source": [
    "# Статистические показатели Pechory Apartment"
   ]
  },
  {
   "cell_type": "markdown",
   "id": "4f75b55a",
   "metadata": {},
   "source": [
    "# Результаты по выручке:"
   ]
  },
  {
   "cell_type": "code",
   "execution_count": 59,
   "id": "a9a3f629",
   "metadata": {},
   "outputs": [
    {
     "name": "stdout",
     "output_type": "stream",
     "text": [
      "3,601,378.59 RUB\n"
     ]
    }
   ],
   "source": [
    "# выручка за всё время:\n"
   ]
  },
  {
   "cell_type": "code",
   "execution_count": 33,
   "id": "6bb0c57c",
   "metadata": {},
   "outputs": [
    {
     "data": {
      "text/html": [
       "<div>\n",
       "<style scoped>\n",
       "    .dataframe tbody tr th:only-of-type {\n",
       "        vertical-align: middle;\n",
       "    }\n",
       "\n",
       "    .dataframe tbody tr th {\n",
       "        vertical-align: top;\n",
       "    }\n",
       "\n",
       "    .dataframe thead th {\n",
       "        text-align: right;\n",
       "    }\n",
       "</style>\n",
       "<table border=\"1\" class=\"dataframe\">\n",
       "  <thead>\n",
       "    <tr style=\"text-align: right;\">\n",
       "      <th>Показатель</th>\n",
       "      <th>2_rooms</th>\n",
       "      <th>3_rooms</th>\n",
       "      <th>1_room</th>\n",
       "      <th>P2_rooms</th>\n",
       "    </tr>\n",
       "  </thead>\n",
       "  <tbody>\n",
       "    <tr>\n",
       "      <th>2019-06-01</th>\n",
       "      <td>45800.0</td>\n",
       "      <td>30900.0</td>\n",
       "      <td>24200.0</td>\n",
       "      <td>0.0</td>\n",
       "    </tr>\n",
       "    <tr>\n",
       "      <th>2019-07-01</th>\n",
       "      <td>50760.0</td>\n",
       "      <td>57800.0</td>\n",
       "      <td>15100.0</td>\n",
       "      <td>0.0</td>\n",
       "    </tr>\n",
       "    <tr>\n",
       "      <th>2019-08-01</th>\n",
       "      <td>62560.0</td>\n",
       "      <td>61600.0</td>\n",
       "      <td>43400.0</td>\n",
       "      <td>0.0</td>\n",
       "    </tr>\n",
       "    <tr>\n",
       "      <th>2019-09-01</th>\n",
       "      <td>35120.0</td>\n",
       "      <td>23600.0</td>\n",
       "      <td>23800.0</td>\n",
       "      <td>0.0</td>\n",
       "    </tr>\n",
       "    <tr>\n",
       "      <th>2019-10-01</th>\n",
       "      <td>19360.0</td>\n",
       "      <td>30100.0</td>\n",
       "      <td>26100.0</td>\n",
       "      <td>0.0</td>\n",
       "    </tr>\n",
       "    <tr>\n",
       "      <th>2019-11-01</th>\n",
       "      <td>16320.0</td>\n",
       "      <td>19400.0</td>\n",
       "      <td>20400.0</td>\n",
       "      <td>0.0</td>\n",
       "    </tr>\n",
       "    <tr>\n",
       "      <th>2019-12-01</th>\n",
       "      <td>17080.0</td>\n",
       "      <td>0.0</td>\n",
       "      <td>13600.0</td>\n",
       "      <td>3500.0</td>\n",
       "    </tr>\n",
       "  </tbody>\n",
       "</table>\n",
       "</div>"
      ],
      "text/plain": [
       "Показатель  2_rooms  3_rooms   1_room  P2_rooms\n",
       "2019-06-01  45800.0  30900.0  24200.0       0.0\n",
       "2019-07-01  50760.0  57800.0  15100.0       0.0\n",
       "2019-08-01  62560.0  61600.0  43400.0       0.0\n",
       "2019-09-01  35120.0  23600.0  23800.0       0.0\n",
       "2019-10-01  19360.0  30100.0  26100.0       0.0\n",
       "2019-11-01  16320.0  19400.0  20400.0       0.0\n",
       "2019-12-01  17080.0      0.0  13600.0    3500.0"
      ]
     },
     "execution_count": 33,
     "metadata": {},
     "output_type": "execute_result"
    }
   ],
   "source": [
    "# выручка помесячно за 2019 год по объектам\n"
   ]
  },
  {
   "cell_type": "code",
   "execution_count": 49,
   "id": "07b8d667",
   "metadata": {},
   "outputs": [
    {
     "name": "stdout",
     "output_type": "stream",
     "text": [
      "2_rooms     247,000.00 RUB\n",
      "3_rooms     223,400.00 RUB\n",
      "1_room      166,600.00 RUB\n",
      "P2_rooms      3,500.00 RUB\n",
      "выручка за 2019 год по всем объектам:  640,500.00 RUB\n"
     ]
    }
   ],
   "source": [
    "# выручка за 2019 год по объектам\n"
   ]
  },
  {
   "cell_type": "code",
   "execution_count": 50,
   "id": "65077d62",
   "metadata": {},
   "outputs": [
    {
     "data": {
      "text/html": [
       "<div>\n",
       "<style scoped>\n",
       "    .dataframe tbody tr th:only-of-type {\n",
       "        vertical-align: middle;\n",
       "    }\n",
       "\n",
       "    .dataframe tbody tr th {\n",
       "        vertical-align: top;\n",
       "    }\n",
       "\n",
       "    .dataframe thead th {\n",
       "        text-align: right;\n",
       "    }\n",
       "</style>\n",
       "<table border=\"1\" class=\"dataframe\">\n",
       "  <thead>\n",
       "    <tr style=\"text-align: right;\">\n",
       "      <th>Показатель</th>\n",
       "      <th>2_rooms</th>\n",
       "      <th>3_rooms</th>\n",
       "      <th>1_room</th>\n",
       "      <th>P2_rooms</th>\n",
       "    </tr>\n",
       "  </thead>\n",
       "  <tbody>\n",
       "    <tr>\n",
       "      <th>2020-01-01</th>\n",
       "      <td>20940.00</td>\n",
       "      <td>31100.0</td>\n",
       "      <td>22500.0</td>\n",
       "      <td>30000.0</td>\n",
       "    </tr>\n",
       "    <tr>\n",
       "      <th>2020-02-01</th>\n",
       "      <td>4646.40</td>\n",
       "      <td>6150.0</td>\n",
       "      <td>5100.0</td>\n",
       "      <td>4400.0</td>\n",
       "    </tr>\n",
       "    <tr>\n",
       "      <th>2020-03-01</th>\n",
       "      <td>18124.80</td>\n",
       "      <td>8500.0</td>\n",
       "      <td>21885.0</td>\n",
       "      <td>9856.0</td>\n",
       "    </tr>\n",
       "    <tr>\n",
       "      <th>2020-04-01</th>\n",
       "      <td>0.00</td>\n",
       "      <td>0.0</td>\n",
       "      <td>0.0</td>\n",
       "      <td>0.0</td>\n",
       "    </tr>\n",
       "    <tr>\n",
       "      <th>2020-05-01</th>\n",
       "      <td>0.00</td>\n",
       "      <td>0.0</td>\n",
       "      <td>0.0</td>\n",
       "      <td>0.0</td>\n",
       "    </tr>\n",
       "    <tr>\n",
       "      <th>2020-06-01</th>\n",
       "      <td>2808.00</td>\n",
       "      <td>15780.0</td>\n",
       "      <td>10625.0</td>\n",
       "      <td>24300.0</td>\n",
       "    </tr>\n",
       "    <tr>\n",
       "      <th>2020-07-01</th>\n",
       "      <td>44466.84</td>\n",
       "      <td>34700.0</td>\n",
       "      <td>37125.0</td>\n",
       "      <td>34452.0</td>\n",
       "    </tr>\n",
       "    <tr>\n",
       "      <th>2020-08-01</th>\n",
       "      <td>42769.72</td>\n",
       "      <td>68700.0</td>\n",
       "      <td>31875.0</td>\n",
       "      <td>52920.0</td>\n",
       "    </tr>\n",
       "    <tr>\n",
       "      <th>2020-09-01</th>\n",
       "      <td>14156.23</td>\n",
       "      <td>0.0</td>\n",
       "      <td>0.0</td>\n",
       "      <td>0.0</td>\n",
       "    </tr>\n",
       "    <tr>\n",
       "      <th>2020-10-01</th>\n",
       "      <td>11367.99</td>\n",
       "      <td>3825.0</td>\n",
       "      <td>2125.0</td>\n",
       "      <td>11624.0</td>\n",
       "    </tr>\n",
       "    <tr>\n",
       "      <th>2020-11-01</th>\n",
       "      <td>2262.71</td>\n",
       "      <td>0.0</td>\n",
       "      <td>5000.0</td>\n",
       "      <td>0.0</td>\n",
       "    </tr>\n",
       "    <tr>\n",
       "      <th>2020-12-01</th>\n",
       "      <td>4509.00</td>\n",
       "      <td>0.0</td>\n",
       "      <td>0.0</td>\n",
       "      <td>8424.0</td>\n",
       "    </tr>\n",
       "  </tbody>\n",
       "</table>\n",
       "</div>"
      ],
      "text/plain": [
       "Показатель   2_rooms  3_rooms   1_room  P2_rooms\n",
       "2020-01-01  20940.00  31100.0  22500.0   30000.0\n",
       "2020-02-01   4646.40   6150.0   5100.0    4400.0\n",
       "2020-03-01  18124.80   8500.0  21885.0    9856.0\n",
       "2020-04-01      0.00      0.0      0.0       0.0\n",
       "2020-05-01      0.00      0.0      0.0       0.0\n",
       "2020-06-01   2808.00  15780.0  10625.0   24300.0\n",
       "2020-07-01  44466.84  34700.0  37125.0   34452.0\n",
       "2020-08-01  42769.72  68700.0  31875.0   52920.0\n",
       "2020-09-01  14156.23      0.0      0.0       0.0\n",
       "2020-10-01  11367.99   3825.0   2125.0   11624.0\n",
       "2020-11-01   2262.71      0.0   5000.0       0.0\n",
       "2020-12-01   4509.00      0.0      0.0    8424.0"
      ]
     },
     "execution_count": 50,
     "metadata": {},
     "output_type": "execute_result"
    }
   ],
   "source": [
    "# выручка помесячно за 2020 год по объектам\n"]
  },
  {
   "cell_type": "code",
   "execution_count": 51,
   "id": "965f5121",
   "metadata": {},
   "outputs": [
    {
     "name": "stdout",
     "output_type": "stream",
     "text": [
      "выручка за 2020 год по объектам:  Показатель\n",
      "2_rooms     166,051.69 RUB\n",
      "3_rooms     168,755.00 RUB\n",
      "1_room      136,235.00 RUB\n",
      "P2_rooms    175,976.00 RUB\n",
      "выручка за 2020 год всего:  647,017.69 RUB\n"
     ]
    }
   ],
   "source": [
    "# выручка за 2020 год по объектам\n"
   ]
  },
  {
   "cell_type": "code",
   "execution_count": 52,
   "id": "ddb33706",
   "metadata": {},
   "outputs": [
    {
     "data": {
      "text/html": [
       "<div>\n",
       "<style scoped>\n",
       "    .dataframe tbody tr th:only-of-type {\n",
       "        vertical-align: middle;\n",
       "    }\n",
       "\n",
       "    .dataframe tbody tr th {\n",
       "        vertical-align: top;\n",
       "    }\n",
       "\n",
       "    .dataframe thead th {\n",
       "        text-align: right;\n",
       "    }\n",
       "</style>\n",
       "<table border=\"1\" class=\"dataframe\">\n",
       "  <thead>\n",
       "    <tr style=\"text-align: right;\">\n",
       "      <th>Показатель</th>\n",
       "      <th>2_rooms</th>\n",
       "      <th>3_rooms</th>\n",
       "      <th>1_room</th>\n",
       "      <th>P2_rooms</th>\n",
       "    </tr>\n",
       "  </thead>\n",
       "  <tbody>\n",
       "    <tr>\n",
       "      <th>2021-01-01</th>\n",
       "      <td>26283.2</td>\n",
       "      <td>17425.0</td>\n",
       "      <td>11375.00</td>\n",
       "      <td>17200.0</td>\n",
       "    </tr>\n",
       "    <tr>\n",
       "      <th>2021-02-01</th>\n",
       "      <td>5536.0</td>\n",
       "      <td>8075.0</td>\n",
       "      <td>13950.00</td>\n",
       "      <td>4800.0</td>\n",
       "    </tr>\n",
       "    <tr>\n",
       "      <th>2021-03-01</th>\n",
       "      <td>16672.0</td>\n",
       "      <td>12425.0</td>\n",
       "      <td>18180.00</td>\n",
       "      <td>13040.0</td>\n",
       "    </tr>\n",
       "    <tr>\n",
       "      <th>2021-04-01</th>\n",
       "      <td>13136.4</td>\n",
       "      <td>38500.0</td>\n",
       "      <td>23931.25</td>\n",
       "      <td>6240.0</td>\n",
       "    </tr>\n",
       "    <tr>\n",
       "      <th>2021-05-01</th>\n",
       "      <td>30434.4</td>\n",
       "      <td>31950.0</td>\n",
       "      <td>27000.00</td>\n",
       "      <td>33480.0</td>\n",
       "    </tr>\n",
       "    <tr>\n",
       "      <th>2021-06-01</th>\n",
       "      <td>29611.2</td>\n",
       "      <td>30525.0</td>\n",
       "      <td>11000.00</td>\n",
       "      <td>9720.0</td>\n",
       "    </tr>\n",
       "    <tr>\n",
       "      <th>2021-07-01</th>\n",
       "      <td>45867.2</td>\n",
       "      <td>41775.0</td>\n",
       "      <td>40375.00</td>\n",
       "      <td>36600.0</td>\n",
       "    </tr>\n",
       "    <tr>\n",
       "      <th>2021-08-01</th>\n",
       "      <td>42260.8</td>\n",
       "      <td>46425.0</td>\n",
       "      <td>32500.00</td>\n",
       "      <td>33260.0</td>\n",
       "    </tr>\n",
       "    <tr>\n",
       "      <th>2021-09-01</th>\n",
       "      <td>18075.6</td>\n",
       "      <td>21150.0</td>\n",
       "      <td>6875.00</td>\n",
       "      <td>13320.0</td>\n",
       "    </tr>\n",
       "    <tr>\n",
       "      <th>2021-10-01</th>\n",
       "      <td>60163.6</td>\n",
       "      <td>10200.0</td>\n",
       "      <td>13875.00</td>\n",
       "      <td>28840.0</td>\n",
       "    </tr>\n",
       "    <tr>\n",
       "      <th>2021-11-01</th>\n",
       "      <td>10320.8</td>\n",
       "      <td>8475.0</td>\n",
       "      <td>13755.00</td>\n",
       "      <td>9240.0</td>\n",
       "    </tr>\n",
       "    <tr>\n",
       "      <th>2021-12-01</th>\n",
       "      <td>0.0</td>\n",
       "      <td>0.0</td>\n",
       "      <td>16252.00</td>\n",
       "      <td>2673.0</td>\n",
       "    </tr>\n",
       "  </tbody>\n",
       "</table>\n",
       "</div>"
      ],
      "text/plain": [
       "Показатель  2_rooms  3_rooms    1_room  P2_rooms\n",
       "2021-01-01  26283.2  17425.0  11375.00   17200.0\n",
       "2021-02-01   5536.0   8075.0  13950.00    4800.0\n",
       "2021-03-01  16672.0  12425.0  18180.00   13040.0\n",
       "2021-04-01  13136.4  38500.0  23931.25    6240.0\n",
       "2021-05-01  30434.4  31950.0  27000.00   33480.0\n",
       "2021-06-01  29611.2  30525.0  11000.00    9720.0\n",
       "2021-07-01  45867.2  41775.0  40375.00   36600.0\n",
       "2021-08-01  42260.8  46425.0  32500.00   33260.0\n",
       "2021-09-01  18075.6  21150.0   6875.00   13320.0\n",
       "2021-10-01  60163.6  10200.0  13875.00   28840.0\n",
       "2021-11-01  10320.8   8475.0  13755.00    9240.0\n",
       "2021-12-01      0.0      0.0  16252.00    2673.0"
      ]
     },
     "execution_count": 52,
     "metadata": {},
     "output_type": "execute_result"
    }
   ],
   "source": [
    "# выручка помесячно за 2021 год по объектам\n"
   ]
  },
  {
   "cell_type": "code",
   "execution_count": 54,
   "id": "5f3afc5e",
   "metadata": {
    "scrolled": true
   },
   "outputs": [
    {
     "name": "stdout",
     "output_type": "stream",
     "text": [
      "2_rooms     298,361.20 RUB\n",
      "3_rooms     266,925.00 RUB\n",
      "1_room      229,068.25 RUB\n",
      "P2_rooms    208,413.00 RUB\n",
      "выручка за 2021 год всего:  1,002,767.45 RUB\n"
     ]
    }
   ],
   "source": [
    "# выручка за 2021 год по объектам\n"
   ]
  },
  {
   "cell_type": "code",
   "execution_count": 55,
   "id": "7fcec8e5",
   "metadata": {},
   "outputs": [
    {
     "data": {
      "text/html": [
       "<div>\n",
       "<style scoped>\n",
       "    .dataframe tbody tr th:only-of-type {\n",
       "        vertical-align: middle;\n",
       "    }\n",
       "\n",
       "    .dataframe tbody tr th {\n",
       "        vertical-align: top;\n",
       "    }\n",
       "\n",
       "    .dataframe thead th {\n",
       "        text-align: right;\n",
       "    }\n",
       "</style>\n",
       "<table border=\"1\" class=\"dataframe\">\n",
       "  <thead>\n",
       "    <tr style=\"text-align: right;\">\n",
       "      <th>Показатель</th>\n",
       "      <th>2_rooms</th>\n",
       "      <th>3_rooms</th>\n",
       "      <th>1_room</th>\n",
       "      <th>P2_rooms</th>\n",
       "    </tr>\n",
       "  </thead>\n",
       "  <tbody>\n",
       "    <tr>\n",
       "      <th>2022-01-01</th>\n",
       "      <td>23462.4</td>\n",
       "      <td>26392.5</td>\n",
       "      <td>15410.5</td>\n",
       "      <td>31087.45</td>\n",
       "    </tr>\n",
       "    <tr>\n",
       "      <th>2022-02-01</th>\n",
       "      <td>5976.0</td>\n",
       "      <td>10770.0</td>\n",
       "      <td>17127.5</td>\n",
       "      <td>8874.00</td>\n",
       "    </tr>\n",
       "    <tr>\n",
       "      <th>2022-03-01</th>\n",
       "      <td>15390.0</td>\n",
       "      <td>2835.0</td>\n",
       "      <td>18790.0</td>\n",
       "      <td>4922.10</td>\n",
       "    </tr>\n",
       "    <tr>\n",
       "      <th>2022-04-01</th>\n",
       "      <td>9000.0</td>\n",
       "      <td>5200.0</td>\n",
       "      <td>11300.0</td>\n",
       "      <td>2500.00</td>\n",
       "    </tr>\n",
       "    <tr>\n",
       "      <th>2022-05-01</th>\n",
       "      <td>13300.0</td>\n",
       "      <td>31900.0</td>\n",
       "      <td>28360.0</td>\n",
       "      <td>20500.00</td>\n",
       "    </tr>\n",
       "    <tr>\n",
       "      <th>2022-06-01</th>\n",
       "      <td>63180.0</td>\n",
       "      <td>75210.0</td>\n",
       "      <td>80034.4</td>\n",
       "      <td>38600.00</td>\n",
       "    </tr>\n",
       "    <tr>\n",
       "      <th>2022-07-01</th>\n",
       "      <td>49280.0</td>\n",
       "      <td>46010.0</td>\n",
       "      <td>54124.4</td>\n",
       "      <td>48930.00</td>\n",
       "    </tr>\n",
       "    <tr>\n",
       "      <th>2022-08-01</th>\n",
       "      <td>9000.0</td>\n",
       "      <td>5200.0</td>\n",
       "      <td>11300.0</td>\n",
       "      <td>2500.00</td>\n",
       "    </tr>\n",
       "    <tr>\n",
       "      <th>2022-09-01</th>\n",
       "      <td>9000.0</td>\n",
       "      <td>5200.0</td>\n",
       "      <td>11300.0</td>\n",
       "      <td>2500.00</td>\n",
       "    </tr>\n",
       "    <tr>\n",
       "      <th>2022-10-01</th>\n",
       "      <td>24610.0</td>\n",
       "      <td>17600.0</td>\n",
       "      <td>31700.0</td>\n",
       "      <td>17630.00</td>\n",
       "    </tr>\n",
       "    <tr>\n",
       "      <th>2022-11-01</th>\n",
       "      <td>11930.0</td>\n",
       "      <td>0.0</td>\n",
       "      <td>15550.0</td>\n",
       "      <td>17880.00</td>\n",
       "    </tr>\n",
       "    <tr>\n",
       "      <th>2022-12-01</th>\n",
       "      <td>4965.0</td>\n",
       "      <td>0.0</td>\n",
       "      <td>18162.0</td>\n",
       "      <td>34630.00</td>\n",
       "    </tr>\n",
       "  </tbody>\n",
       "</table>\n",
       "</div>"
      ],
      "text/plain": [
       "Показатель  2_rooms  3_rooms   1_room  P2_rooms\n",
       "2022-01-01  23462.4  26392.5  15410.5  31087.45\n",
       "2022-02-01   5976.0  10770.0  17127.5   8874.00\n",
       "2022-03-01  15390.0   2835.0  18790.0   4922.10\n",
       "2022-04-01   9000.0   5200.0  11300.0   2500.00\n",
       "2022-05-01  13300.0  31900.0  28360.0  20500.00\n",
       "2022-06-01  63180.0  75210.0  80034.4  38600.00\n",
       "2022-07-01  49280.0  46010.0  54124.4  48930.00\n",
       "2022-08-01   9000.0   5200.0  11300.0   2500.00\n",
       "2022-09-01   9000.0   5200.0  11300.0   2500.00\n",
       "2022-10-01  24610.0  17600.0  31700.0  17630.00\n",
       "2022-11-01  11930.0      0.0  15550.0  17880.00\n",
       "2022-12-01   4965.0      0.0  18162.0  34630.00"
      ]
     },
     "execution_count": 55,
     "metadata": {},
     "output_type": "execute_result"
    }
   ],
   "source": [
    "# выручка помесячно за 2022 год по объектам\n"
   ]
  },
  {
   "cell_type": "code",
   "execution_count": 56,
   "id": "5061b58b",
   "metadata": {},
   "outputs": [
    {
     "name": "stdout",
     "output_type": "stream",
     "text": [
      "2_rooms     239,093.40 RUB\n",
      "3_rooms     226,317.50 RUB\n",
      "1_room      313,158.80 RUB\n",
      "P2_rooms    230,553.55 RUB\n",
      "выручка за 2022 год всего:  1,009,123.25 RUB\n"
     ]
    }
   ],
   "source": [
    "# выручка за 2022 год по объектам\n"   ]
  },
  {
   "cell_type": "code",
   "execution_count": 87,
   "id": "fc870ad4",
   "metadata": {},
   "outputs": [
    {
     "data": {
      "image/png": "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\n",
      "text/plain": [
       "<Figure size 720x360 with 1 Axes>"
      ]
     },
     "metadata": {
      "needs_background": "light"
     },
     "output_type": "display_data"
    }
   ],
   "source": [
    "keys = list(dict_of_profits.keys())\n",
    "values = list(dict_of_profits.values())\n",
    "fig = plt.figure(figsize = (10, 5))\n",
    "plt.bar(keys, values, color ='maroon',\n",
    "        width = 0.4)\n",
    "plt.xlabel(\"Расчётные периоды\")\n",
    "plt.ylabel(\"Выручка в миллионых рублей\")\n",
    "plt.title(\"Выручка по Печорам за каждый год\")\n",
    "plt.show()"
   ]
  },
  {
   "cell_type": "code",
   "execution_count": 99,
   "id": "42fdc716",
   "metadata": {},
   "outputs": [],
   "source": [
    "profit_object_years = pd.concat(list_of_profits, axis=1)"
   ]
  },
  {
   "cell_type": "code",
   "execution_count": 105,
   "id": "ef40927e",
   "metadata": {},
   "outputs": [
    {
     "data": {
      "text/plain": [
       "[Text(0.5, 1.0, 'Выручка по Печорам'),\n",
       " Text(0, 0.5, 'Сумма в рублях'),\n",
       " Text(0.5, 0, 'Расчётные периоды')]"
      ]
     },
     "execution_count": 105,
     "metadata": {},
     "output_type": "execute_result"
    },
    {
     "data": {
      "image/png": "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\n",
      "text/plain": [
       "<Figure size 1440x720 with 1 Axes>"
      ]
     },
     "metadata": {
      "needs_background": "light"
     },
     "output_type": "display_data"
    }
   ],
   "source": [
    "ax_profit_by_years = profit_object_years.T.plot.bar(figsize=(20,10), subplots=False)\n",
    "ax_profit_by_years.set(title='Выручка по Печорам', ylabel=\"Сумма в рублях\", xlabel=\"Расчётные периоды\")"
   ]
  }
}

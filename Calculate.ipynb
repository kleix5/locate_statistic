{
 "cells": [
  {
   "cell_type": "code",
   "execution_count": 1,
   "id": "05f24e89",
   "metadata": {},
   "outputs": [],
   "source": [
    "import pandas as pd\n",
    "import numpy as np\n",
    "import os"
   ]
  },
  {
   "cell_type": "code",
   "execution_count": 2,
   "id": "e936b528",
   "metadata": {},
   "outputs": [],
   "source": [
    "# DataFrame from github locate_stat\n",
    "df = pd.read_csv(\"C:/py_projects/stats_hotel/data_files/main\", header=[0,1], index_col=0)"
   ]
  },
  {
   "cell_type": "code",
   "execution_count": 8,
   "id": "5c63a21a",
   "metadata": {},
   "outputs": [
    {
     "data": {
      "text/plain": [
       "Показатель\n",
       "2_rooms     32718.0\n",
       "3_rooms     19601.6\n",
       "1_room      33916.0\n",
       "P2_rooms    33440.0\n",
       "Name: 2023-09-01, dtype: float64"
      ]
     },
     "execution_count": 8,
     "metadata": {},
     "output_type": "execute_result"
    }
   ],
   "source": [
    "df.loc['2023-09-01'].profit\n",
    "# month.loc['2022-08-01']"
   ]
  },
  {
   "cell_type": "code",
   "execution_count": null,
   "id": "e1e46564",
   "metadata": {},
   "outputs": [],
   "source": [
    "# here is a path to file from travelline.ru(stats and reports)\n",
    "month_var = input('type filename from data_files folder without extansion: ')\n",
    "# creating DataFrame from this file\n",
    "month = pd.read_excel(f'C:/py_projects/stats_hotel/data_files/{month_var}.xlsx', index_col='Показатель')"
   ]
  },
  {
   "cell_type": "code",
   "execution_count": null,
   "id": "6c32b716",
   "metadata": {},
   "outputs": [],
   "source": [
    "month.index = month.index.str.strip()"
   ]
  },
  {
   "cell_type": "code",
   "execution_count": null,
   "id": "468336c7",
   "metadata": {},
   "outputs": [],
   "source": [
    "month"
   ]
  },
  {
   "cell_type": "code",
   "execution_count": null,
   "id": "3689f7b5",
   "metadata": {},
   "outputs": [],
   "source": [
    "rows_to_exclude = [\"Мансарда. Стандарт с 2 раздельными кроватями\", \"Мансарда. Улучшенный номер 2-х местный\",\n",
    "                   \"Мансарда. Семейный 3-местный с балконом\", \"Доход по еде и напиткам (F&B)\", \"Доходы прочие\",\n",
    "                   \"Заказано допуслуг на сумму\", \"Доход за период\", \"Завтрак\", \"Гость без места\", \"Завтрак континентальный\",\n",
    "                   \"Штрафы\", \"Бесплатная парковка\", \"Аренда лежаков, Бассейн, Уборка\", \"Pechory Apartment (Gagarina 1 room)\"]"
   ]
  },
  {
   "cell_type": "code",
   "execution_count": null,
   "id": "5c298d3a",
   "metadata": {},
   "outputs": [],
   "source": [
    "month = month[~month.index.isin(rows_to_exclude)]"
   ]
  },
  {
   "cell_type": "code",
   "execution_count": null,
   "id": "f0a6635f",
   "metadata": {},
   "outputs": [],
   "source": [
    "month = month.rename(index={'Процент загрузки отеля': 'load_percent',\n",
    "                            'Средняя стоимость номера за сутки (ADR)':'room_coast_mean',\n",
    "                            'Средний доход на номер (RevPar)': 'room_profit_mean',\n",
    "                            'Забронировано номеров/день': 'rooms_per_day',\n",
    "                            '№1 Двухуровневый люкс, 1 линия, вид на море': 'N1',\n",
    "                            '№2 Стандартный номер, 1 линия, боковой вид на море (3чел)': 'N2',\n",
    "                            '№3 Полулюкс улучшенный, 1 линия, вид на море': 'N3',\n",
    "                            '№4 Стандарт, 1 линия, боковой вид на море (4чел)': 'N4',\n",
    "                            'Доход за проживание': 'profit',\n",
    "                            'Количество гостей': 'guests',\n",
    "                            '№5 Полулюкс, 2 линия, вид на сад': 'N5',\n",
    "                            \"№6 Стандарт, 2 линия, вид на сад\": 'N6',\n",
    "                            '№7 Двухуровневый люкс, 2 линия, боковой вид на море': 'N7',\n",
    "                            '№8 Стандарт улучшенный, 2 линия, боковой вид на море': 'N8',\n",
    "                            '2-х комнатные Апартаменты с 1 спальней': '2_rooms',\n",
    "                            '3-х комнатные апартаменты с 2-я спальнями': '3_rooms',\n",
    "                            'Апартаменты с 1-й спальней': '1_room',\n",
    "                            '2-х комнатные апартаменты': 'P2_rooms'})"
   ]
  },
  {
   "cell_type": "code",
   "execution_count": null,
   "id": "4ccf959b",
   "metadata": {},
   "outputs": [],
   "source": [
    "month = month.rename(columns={'Значение за период': '2023-03-01'})"
   ]
  },
  {
   "cell_type": "code",
   "execution_count": null,
   "id": "6d23c854",
   "metadata": {},
   "outputs": [],
   "source": [
    "for c1 in month.columns:\n",
    "    v = month[c1]\n",
    "    month[c1] = v.str.replace(\",\", \".\", regex=False)"
   ]
  },
  {
   "cell_type": "code",
   "execution_count": null,
   "id": "07e34c22",
   "metadata": {},
   "outputs": [],
   "source": [
    "for c1 in month.columns:\n",
    "    v = month[c1]\n",
    "    month[c1] = v.str.replace(\"[\\s, %, R, U, B]\", \"\", regex=True).astype(float)"
   ]
  },
  {
   "cell_type": "code",
   "execution_count": null,
   "id": "172f8494",
   "metadata": {},
   "outputs": [],
   "source": [
    "# This function evaluating DF index to Multindex(like main DF)\n",
    "def group_rows(x):\n",
    "    name = x.index[0]\n",
    "    x = x.iloc[1:]\n",
    "    x.index = pd.MultiIndex.from_product([[name], x.index])\n",
    "    return x"
   ]
  },
  {
   "cell_type": "code",
   "execution_count": null,
   "id": "ccb0d23b",
   "metadata": {},
   "outputs": [],
   "source": [
    "month.shape"
   ]
  },
  {
   "cell_type": "code",
   "execution_count": null,
   "id": "206524b2",
   "metadata": {},
   "outputs": [],
   "source": [
    "month = month.groupby(np.arange(len(month)) // 5, group_keys=False).apply(group_rows).T"
   ]
  },
  {
   "cell_type": "code",
   "execution_count": null,
   "id": "024b5da1",
   "metadata": {},
   "outputs": [],
   "source": [
    "month.columns"
   ]
  },
  {
   "cell_type": "markdown",
   "id": "5c8c8db9",
   "metadata": {},
   "source": [
    "Дальше необходимо подумать над необходимостью удаления входящих файлов в папке"
   ]
  },
  {
   "cell_type": "code",
   "execution_count": null,
   "id": "460eeef0",
   "metadata": {},
   "outputs": [],
   "source": [
    "df.loc['2023-03-01'] = month.loc['2023-03-01']"
   ]
  },
  {
   "cell_type": "code",
   "execution_count": null,
   "id": "2108a767",
   "metadata": {},
   "outputs": [],
   "source": [
    "frames = [df, month]\n",
    "result = pd.concat(frames)"
   ]
  },
  {
   "cell_type": "code",
   "execution_count": null,
   "id": "714b633c",
   "metadata": {},
   "outputs": [],
   "source": [
    "result"
   ]
  },
  {
   "cell_type": "code",
   "execution_count": null,
   "id": "2b01d646",
   "metadata": {},
   "outputs": [],
   "source": [
    "df.to_csv('C:/py_projects/stats_hotel/data_files/main')\n",
    "# os.remove(f'C:/py_projects/stats_hotel/data_files/{month_var}.xlsx')"
   ]
  },
  {
   "cell_type": "code",
   "execution_count": null,
   "id": "884ef53b",
   "metadata": {},
   "outputs": [],
   "source": [
    "# just check-up all work before \n",
    "print(f'main is extended by {month_var}')\n",
    "print('initial scale: ', df.shape)\n",
    "print('finite scale: ', result.shape)\n",
    "print(result.index)"
   ]
  },
  {
   "cell_type": "code",
   "execution_count": null,
   "id": "07565833",
   "metadata": {},
   "outputs": [],
   "source": []
  },
  {
   "cell_type": "code",
   "execution_count": null,
   "id": "440c4313",
   "metadata": {},
   "outputs": [],
   "source": []
  },
  {
   "cell_type": "code",
   "execution_count": null,
   "id": "ecb5217f",
   "metadata": {},
   "outputs": [],
   "source": []
  }
 ],
 "metadata": {
  "kernelspec": {
   "display_name": "Python 3 (ipykernel)",
   "language": "python",
   "name": "python3"
  },
  "language_info": {
   "codemirror_mode": {
    "name": "ipython",
    "version": 3
   },
   "file_extension": ".py",
   "mimetype": "text/x-python",
   "name": "python",
   "nbconvert_exporter": "python",
   "pygments_lexer": "ipython3",
   "version": "3.11.4"
  }
 },
 "nbformat": 4,
 "nbformat_minor": 5
}
